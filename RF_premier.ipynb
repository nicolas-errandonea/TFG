{
  "nbformat": 4,
  "nbformat_minor": 0,
  "metadata": {
    "colab": {
      "name": "RF_premier.ipynb",
      "provenance": [],
      "collapsed_sections": [],
      "authorship_tag": "ABX9TyOAnfuNcETFI+VXeBVI3w71",
      "include_colab_link": true
    },
    "kernelspec": {
      "name": "python3",
      "display_name": "Python 3"
    },
    "language_info": {
      "name": "python"
    }
  },
  "cells": [
    {
      "cell_type": "markdown",
      "metadata": {
        "id": "view-in-github",
        "colab_type": "text"
      },
      "source": [
        "<a href=\"https://colab.research.google.com/github/nicolas-errandonea/TFG/blob/TFGcodes/RF_premier.ipynb\" target=\"_parent\"><img src=\"https://colab.research.google.com/assets/colab-badge.svg\" alt=\"Open In Colab\"/></a>"
      ]
    },
    {
      "cell_type": "code",
      "execution_count": null,
      "metadata": {
        "colab": {
          "base_uri": "https://localhost:8080/"
        },
        "id": "gf5PAg15ynLS",
        "outputId": "82e3322c-e585-4d99-e196-339e6f50bb5c"
      },
      "outputs": [
        {
          "output_type": "stream",
          "name": "stdout",
          "text": [
            "Mounted at /content/gdrive\n"
          ]
        }
      ],
      "source": [
        "#primero importamos la primera base de datos\n",
        "from google.colab import drive\n",
        "from matplotlib import pyplot as plt\n",
        "import numpy as np \n",
        "import pandas as pd\n",
        "import random\n",
        "drive.mount('/content/gdrive', force_remount=True)\n",
        "path = \"/content/gdrive/My Drive/Premier league/premier_data.csv\"\n",
        "df = pd.read_csv(path)"
      ]
    },
    {
      "cell_type": "code",
      "source": [
        "from tensorflow import keras\n",
        "from sklearn.ensemble import RandomForestClassifier\n",
        "from sklearn.ensemble import RandomForestRegressor\n",
        "import numpy\n",
        "from sklearn import metrics\n",
        "from tensorflow.keras.layers import Dense,Dropout\n",
        "from tensorflow.keras.models import Sequential\n",
        "from tensorflow.keras.optimizers import RMSprop\n",
        "from sklearn.model_selection import train_test_split\n",
        "from sklearn.utils import resample"
      ],
      "metadata": {
        "id": "dOJl1Xfzy8-i"
      },
      "execution_count": null,
      "outputs": []
    },
    {
      "cell_type": "code",
      "source": [
        "df2=df.copy()\n",
        "cols_to_drop = ['Date','HomeTeam','AwayTeam','FTR', 'HR','AR','HR_A','AR_A']\n",
        "\n",
        "\n",
        "df2.drop( columns = cols_to_drop, inplace = True)"
      ],
      "metadata": {
        "id": "ruzCREFIzDU1"
      },
      "execution_count": null,
      "outputs": []
    },
    {
      "cell_type": "code",
      "source": [
        "df2.head()"
      ],
      "metadata": {
        "colab": {
          "base_uri": "https://localhost:8080/",
          "height": 235
        },
        "id": "OScOcugT1AmL",
        "outputId": "cd378132-7d05-440f-ebb0-040480d21dc7"
      },
      "execution_count": null,
      "outputs": [
        {
          "output_type": "execute_result",
          "data": {
            "text/plain": [
              "   FTHG  FTAG  HTHG  HTAG    HS    AS  HST  AST    HF    AF  ...  HST_A  \\\n",
              "0   0.7   2.6   0.4   1.2   9.2  14.9  3.2  6.0  10.6  11.3  ...    4.1   \n",
              "1   3.7   1.0   1.8   0.4  18.9   6.1  7.8  3.1   8.5   9.4  ...    2.9   \n",
              "2   2.7   0.3   1.1   0.1  22.0   6.1  7.5  1.9   7.7   7.3  ...    3.8   \n",
              "3   1.5   1.0   0.7   0.4  12.0  14.5  4.2  4.7   9.6  10.1  ...    5.5   \n",
              "4   1.3   1.0   0.8   0.7  12.1  11.1  4.7  3.3   9.2  15.3  ...    6.5   \n",
              "\n",
              "   AST_A  HF_A  AF_A  HC_A  AC_A  HY_A  AY_A  home_points_A  away_points_A  \n",
              "0    4.9  10.3   9.7   7.1   4.8   1.8   1.7            1.1            1.7  \n",
              "1    5.0  15.1  11.1   5.2   5.9   3.1   2.5            1.3            1.6  \n",
              "2    3.6   8.9   9.5   4.9   4.0   1.9   1.2            1.3            1.6  \n",
              "3    5.3  11.3  10.7   4.7   6.7   1.7   1.8            1.6            1.0  \n",
              "4    4.6   8.9  11.0   4.8   5.7   1.8   2.0            1.8            0.9  \n",
              "\n",
              "[5 rows x 35 columns]"
            ],
            "text/html": [
              "\n",
              "  <div id=\"df-119c7716-a8c3-4db0-9865-8546fb971c93\">\n",
              "    <div class=\"colab-df-container\">\n",
              "      <div>\n",
              "<style scoped>\n",
              "    .dataframe tbody tr th:only-of-type {\n",
              "        vertical-align: middle;\n",
              "    }\n",
              "\n",
              "    .dataframe tbody tr th {\n",
              "        vertical-align: top;\n",
              "    }\n",
              "\n",
              "    .dataframe thead th {\n",
              "        text-align: right;\n",
              "    }\n",
              "</style>\n",
              "<table border=\"1\" class=\"dataframe\">\n",
              "  <thead>\n",
              "    <tr style=\"text-align: right;\">\n",
              "      <th></th>\n",
              "      <th>FTHG</th>\n",
              "      <th>FTAG</th>\n",
              "      <th>HTHG</th>\n",
              "      <th>HTAG</th>\n",
              "      <th>HS</th>\n",
              "      <th>AS</th>\n",
              "      <th>HST</th>\n",
              "      <th>AST</th>\n",
              "      <th>HF</th>\n",
              "      <th>AF</th>\n",
              "      <th>...</th>\n",
              "      <th>HST_A</th>\n",
              "      <th>AST_A</th>\n",
              "      <th>HF_A</th>\n",
              "      <th>AF_A</th>\n",
              "      <th>HC_A</th>\n",
              "      <th>AC_A</th>\n",
              "      <th>HY_A</th>\n",
              "      <th>AY_A</th>\n",
              "      <th>home_points_A</th>\n",
              "      <th>away_points_A</th>\n",
              "    </tr>\n",
              "  </thead>\n",
              "  <tbody>\n",
              "    <tr>\n",
              "      <th>0</th>\n",
              "      <td>0.7</td>\n",
              "      <td>2.6</td>\n",
              "      <td>0.4</td>\n",
              "      <td>1.2</td>\n",
              "      <td>9.2</td>\n",
              "      <td>14.9</td>\n",
              "      <td>3.2</td>\n",
              "      <td>6.0</td>\n",
              "      <td>10.6</td>\n",
              "      <td>11.3</td>\n",
              "      <td>...</td>\n",
              "      <td>4.1</td>\n",
              "      <td>4.9</td>\n",
              "      <td>10.3</td>\n",
              "      <td>9.7</td>\n",
              "      <td>7.1</td>\n",
              "      <td>4.8</td>\n",
              "      <td>1.8</td>\n",
              "      <td>1.7</td>\n",
              "      <td>1.1</td>\n",
              "      <td>1.7</td>\n",
              "    </tr>\n",
              "    <tr>\n",
              "      <th>1</th>\n",
              "      <td>3.7</td>\n",
              "      <td>1.0</td>\n",
              "      <td>1.8</td>\n",
              "      <td>0.4</td>\n",
              "      <td>18.9</td>\n",
              "      <td>6.1</td>\n",
              "      <td>7.8</td>\n",
              "      <td>3.1</td>\n",
              "      <td>8.5</td>\n",
              "      <td>9.4</td>\n",
              "      <td>...</td>\n",
              "      <td>2.9</td>\n",
              "      <td>5.0</td>\n",
              "      <td>15.1</td>\n",
              "      <td>11.1</td>\n",
              "      <td>5.2</td>\n",
              "      <td>5.9</td>\n",
              "      <td>3.1</td>\n",
              "      <td>2.5</td>\n",
              "      <td>1.3</td>\n",
              "      <td>1.6</td>\n",
              "    </tr>\n",
              "    <tr>\n",
              "      <th>2</th>\n",
              "      <td>2.7</td>\n",
              "      <td>0.3</td>\n",
              "      <td>1.1</td>\n",
              "      <td>0.1</td>\n",
              "      <td>22.0</td>\n",
              "      <td>6.1</td>\n",
              "      <td>7.5</td>\n",
              "      <td>1.9</td>\n",
              "      <td>7.7</td>\n",
              "      <td>7.3</td>\n",
              "      <td>...</td>\n",
              "      <td>3.8</td>\n",
              "      <td>3.6</td>\n",
              "      <td>8.9</td>\n",
              "      <td>9.5</td>\n",
              "      <td>4.9</td>\n",
              "      <td>4.0</td>\n",
              "      <td>1.9</td>\n",
              "      <td>1.2</td>\n",
              "      <td>1.3</td>\n",
              "      <td>1.6</td>\n",
              "    </tr>\n",
              "    <tr>\n",
              "      <th>3</th>\n",
              "      <td>1.5</td>\n",
              "      <td>1.0</td>\n",
              "      <td>0.7</td>\n",
              "      <td>0.4</td>\n",
              "      <td>12.0</td>\n",
              "      <td>14.5</td>\n",
              "      <td>4.2</td>\n",
              "      <td>4.7</td>\n",
              "      <td>9.6</td>\n",
              "      <td>10.1</td>\n",
              "      <td>...</td>\n",
              "      <td>5.5</td>\n",
              "      <td>5.3</td>\n",
              "      <td>11.3</td>\n",
              "      <td>10.7</td>\n",
              "      <td>4.7</td>\n",
              "      <td>6.7</td>\n",
              "      <td>1.7</td>\n",
              "      <td>1.8</td>\n",
              "      <td>1.6</td>\n",
              "      <td>1.0</td>\n",
              "    </tr>\n",
              "    <tr>\n",
              "      <th>4</th>\n",
              "      <td>1.3</td>\n",
              "      <td>1.0</td>\n",
              "      <td>0.8</td>\n",
              "      <td>0.7</td>\n",
              "      <td>12.1</td>\n",
              "      <td>11.1</td>\n",
              "      <td>4.7</td>\n",
              "      <td>3.3</td>\n",
              "      <td>9.2</td>\n",
              "      <td>15.3</td>\n",
              "      <td>...</td>\n",
              "      <td>6.5</td>\n",
              "      <td>4.6</td>\n",
              "      <td>8.9</td>\n",
              "      <td>11.0</td>\n",
              "      <td>4.8</td>\n",
              "      <td>5.7</td>\n",
              "      <td>1.8</td>\n",
              "      <td>2.0</td>\n",
              "      <td>1.8</td>\n",
              "      <td>0.9</td>\n",
              "    </tr>\n",
              "  </tbody>\n",
              "</table>\n",
              "<p>5 rows × 35 columns</p>\n",
              "</div>\n",
              "      <button class=\"colab-df-convert\" onclick=\"convertToInteractive('df-119c7716-a8c3-4db0-9865-8546fb971c93')\"\n",
              "              title=\"Convert this dataframe to an interactive table.\"\n",
              "              style=\"display:none;\">\n",
              "        \n",
              "  <svg xmlns=\"http://www.w3.org/2000/svg\" height=\"24px\"viewBox=\"0 0 24 24\"\n",
              "       width=\"24px\">\n",
              "    <path d=\"M0 0h24v24H0V0z\" fill=\"none\"/>\n",
              "    <path d=\"M18.56 5.44l.94 2.06.94-2.06 2.06-.94-2.06-.94-.94-2.06-.94 2.06-2.06.94zm-11 1L8.5 8.5l.94-2.06 2.06-.94-2.06-.94L8.5 2.5l-.94 2.06-2.06.94zm10 10l.94 2.06.94-2.06 2.06-.94-2.06-.94-.94-2.06-.94 2.06-2.06.94z\"/><path d=\"M17.41 7.96l-1.37-1.37c-.4-.4-.92-.59-1.43-.59-.52 0-1.04.2-1.43.59L10.3 9.45l-7.72 7.72c-.78.78-.78 2.05 0 2.83L4 21.41c.39.39.9.59 1.41.59.51 0 1.02-.2 1.41-.59l7.78-7.78 2.81-2.81c.8-.78.8-2.07 0-2.86zM5.41 20L4 18.59l7.72-7.72 1.47 1.35L5.41 20z\"/>\n",
              "  </svg>\n",
              "      </button>\n",
              "      \n",
              "  <style>\n",
              "    .colab-df-container {\n",
              "      display:flex;\n",
              "      flex-wrap:wrap;\n",
              "      gap: 12px;\n",
              "    }\n",
              "\n",
              "    .colab-df-convert {\n",
              "      background-color: #E8F0FE;\n",
              "      border: none;\n",
              "      border-radius: 50%;\n",
              "      cursor: pointer;\n",
              "      display: none;\n",
              "      fill: #1967D2;\n",
              "      height: 32px;\n",
              "      padding: 0 0 0 0;\n",
              "      width: 32px;\n",
              "    }\n",
              "\n",
              "    .colab-df-convert:hover {\n",
              "      background-color: #E2EBFA;\n",
              "      box-shadow: 0px 1px 2px rgba(60, 64, 67, 0.3), 0px 1px 3px 1px rgba(60, 64, 67, 0.15);\n",
              "      fill: #174EA6;\n",
              "    }\n",
              "\n",
              "    [theme=dark] .colab-df-convert {\n",
              "      background-color: #3B4455;\n",
              "      fill: #D2E3FC;\n",
              "    }\n",
              "\n",
              "    [theme=dark] .colab-df-convert:hover {\n",
              "      background-color: #434B5C;\n",
              "      box-shadow: 0px 1px 3px 1px rgba(0, 0, 0, 0.15);\n",
              "      filter: drop-shadow(0px 1px 2px rgba(0, 0, 0, 0.3));\n",
              "      fill: #FFFFFF;\n",
              "    }\n",
              "  </style>\n",
              "\n",
              "      <script>\n",
              "        const buttonEl =\n",
              "          document.querySelector('#df-119c7716-a8c3-4db0-9865-8546fb971c93 button.colab-df-convert');\n",
              "        buttonEl.style.display =\n",
              "          google.colab.kernel.accessAllowed ? 'block' : 'none';\n",
              "\n",
              "        async function convertToInteractive(key) {\n",
              "          const element = document.querySelector('#df-119c7716-a8c3-4db0-9865-8546fb971c93');\n",
              "          const dataTable =\n",
              "            await google.colab.kernel.invokeFunction('convertToInteractive',\n",
              "                                                     [key], {});\n",
              "          if (!dataTable) return;\n",
              "\n",
              "          const docLinkHtml = 'Like what you see? Visit the ' +\n",
              "            '<a target=\"_blank\" href=https://colab.research.google.com/notebooks/data_table.ipynb>data table notebook</a>'\n",
              "            + ' to learn more about interactive tables.';\n",
              "          element.innerHTML = '';\n",
              "          dataTable['output_type'] = 'display_data';\n",
              "          await google.colab.output.renderOutput(dataTable, element);\n",
              "          const docLink = document.createElement('div');\n",
              "          docLink.innerHTML = docLinkHtml;\n",
              "          element.appendChild(docLink);\n",
              "        }\n",
              "      </script>\n",
              "    </div>\n",
              "  </div>\n",
              "  "
            ]
          },
          "metadata": {},
          "execution_count": 4
        }
      ]
    },
    {
      "cell_type": "code",
      "source": [
        "prediction_cols=['FTR']\n",
        "\n",
        "x_train = df2[380:]        \n",
        "y_train = df[380:][prediction_cols]\n",
        "x_test = df2[0:380]       \n",
        "y_test = df[0:380][prediction_cols]"
      ],
      "metadata": {
        "id": "Z0BlCuwiz1LL"
      },
      "execution_count": null,
      "outputs": []
    },
    {
      "cell_type": "code",
      "source": [
        "clf=RandomForestClassifier(n_estimators=2000,warm_start=False,ccp_alpha=0.001)"
      ],
      "metadata": {
        "id": "KVvW4EeZ0QcV"
      },
      "execution_count": null,
      "outputs": []
    },
    {
      "cell_type": "code",
      "source": [
        "clf.fit(x_train,y_train)"
      ],
      "metadata": {
        "colab": {
          "base_uri": "https://localhost:8080/"
        },
        "id": "uHJV6khh0pP6",
        "outputId": "ccd47062-704a-4a27-8360-5eb77b701e9f"
      },
      "execution_count": null,
      "outputs": [
        {
          "output_type": "stream",
          "name": "stderr",
          "text": [
            "/usr/local/lib/python3.7/dist-packages/ipykernel_launcher.py:1: DataConversionWarning: A column-vector y was passed when a 1d array was expected. Please change the shape of y to (n_samples,), for example using ravel().\n",
            "  \"\"\"Entry point for launching an IPython kernel.\n"
          ]
        },
        {
          "output_type": "execute_result",
          "data": {
            "text/plain": [
              "RandomForestClassifier(ccp_alpha=0.001, n_estimators=2000)"
            ]
          },
          "metadata": {},
          "execution_count": 105
        }
      ]
    },
    {
      "cell_type": "code",
      "source": [
        "y_pred=clf.predict(x_test)\n",
        "print(y_pred)\n",
        "print(\"Accuracy:\",metrics.accuracy_score(y_test, y_pred))"
      ],
      "metadata": {
        "colab": {
          "base_uri": "https://localhost:8080/"
        },
        "id": "UWNULrD60zy-",
        "outputId": "9609ac6b-41a7-47b0-aeed-af89ad1d6899"
      },
      "execution_count": null,
      "outputs": [
        {
          "output_type": "stream",
          "name": "stdout",
          "text": [
            "[3 1 1 1 3 1 3 1 3 1 1 1 1 3 3 3 1 3 3 3 1 1 2 3 3 1 3 3 1 3 2 1 1 3 1 1 3\n",
            " 3 1 3 1 3 3 1 1 3 1 3 3 1 1 1 1 1 3 3 1 3 1 3 1 1 1 1 1 1 1 1 3 1 1 1 3 3\n",
            " 1 3 1 3 1 3 1 1 3 1 1 1 1 3 1 3 1 1 1 3 3 1 1 3 3 3 1 1 1 1 1 1 3 1 3 1 1\n",
            " 1 3 1 1 3 1 1 1 1 3 3 1 3 1 3 1 1 1 3 3 1 1 1 1 3 1 3 1 2 1 3 1 1 1 1 1 3\n",
            " 1 1 3 3 3 1 1 1 1 1 1 1 1 1 3 1 2 1 1 3 3 1 3 1 1 1 3 1 3 3 3 1 1 3 1 3 1\n",
            " 1 1 1 1 1 3 1 1 3 3 3 3 1 3 1 3 3 1 1 3 1 3 1 1 3 1 3 3 3 1 1 1 2 1 1 1 3\n",
            " 1 1 3 3 1 1 1 1 1 1 3 1 1 1 3 3 1 1 3 1 1 3 3 1 1 3 3 1 1 1 1 1 1 1 3 1 3\n",
            " 1 1 1 1 3 3 3 1 1 3 3 3 3 1 1 1 3 1 1 3 1 1 3 3 3 3 3 1 1 1 1 3 1 3 3 1 3\n",
            " 1 1 1 1 1 1 3 3 3 3 1 3 1 3 3 1 3 3 1 1 1 1 1 1 1 1 3 3 3 1 3 1 1 3 3 3 3\n",
            " 1 1 1 1 3 1 3 1 3 1 3 3 1 3 2 1 1 3 1 3 3 1 3 3 1 1 1 3 3 1 3 1 1 1 3 1 1\n",
            " 3 3 3 1 1 1 1 1 1 3]\n",
            "Accuracy: 0.5473684210526316\n"
          ]
        }
      ]
    },
    {
      "cell_type": "code",
      "source": [
        "result=(y_test.to_numpy())\n",
        "print(type(result))"
      ],
      "metadata": {
        "colab": {
          "base_uri": "https://localhost:8080/"
        },
        "id": "KL9_xBIW2r24",
        "outputId": "527e3fbe-4588-44c3-fbc3-8573d0fbfdab"
      },
      "execution_count": null,
      "outputs": [
        {
          "output_type": "stream",
          "name": "stdout",
          "text": [
            "<class 'numpy.ndarray'>\n"
          ]
        }
      ]
    },
    {
      "cell_type": "code",
      "source": [
        "#comprobación de mi codigo\n",
        "hits=0\n",
        "total=0\n",
        "for i in range(len(y_pred)):\n",
        "  if((y_pred[i]==[0,0,0]).all()):\n",
        "    i\n",
        "  else:\n",
        "    total=total+1\n",
        "    if(((y_pred[i]-result[i])==[0,0,0]).all()):\n",
        "      hits=hits+1\n",
        "print(hits/total)"
      ],
      "metadata": {
        "colab": {
          "base_uri": "https://localhost:8080/"
        },
        "id": "Q3mAFW9x2vCe",
        "outputId": "d2e1ad4f-691c-462e-c00e-d6d676aaea82"
      },
      "execution_count": null,
      "outputs": [
        {
          "output_type": "stream",
          "name": "stdout",
          "text": [
            "0.5473684210526316\n"
          ]
        }
      ]
    },
    {
      "cell_type": "code",
      "source": [
        "#acierto de las casas de apuestas\n",
        "total=len(y_test.index)\n",
        "aciertos=0\n",
        "for i in y_test.index:\n",
        "   minimo=min(df2.B365H[i],df2.B365D[i],df2.B365A[i])\n",
        "   if(df.FTR[i]==1 and minimo==df2.B365H[i]):\n",
        "     aciertos=aciertos+1\n",
        "   if(df.FTR[i]==2 and minimo==df2.B365D[i]):\n",
        "     aciertos=aciertos+1\n",
        "     \n",
        "   if(df.FTR[i]==3 and minimo==df2.B365A[i]):\n",
        "     aciertos=aciertos+1\n",
        "print(aciertos/total)"
      ],
      "metadata": {
        "colab": {
          "base_uri": "https://localhost:8080/"
        },
        "id": "Ujf8WC7L11XZ",
        "outputId": "195a01b7-9a69-45bb-da84-495d30d6bcbd"
      },
      "execution_count": null,
      "outputs": [
        {
          "output_type": "stream",
          "name": "stdout",
          "text": [
            "0.5815789473684211\n"
          ]
        }
      ]
    },
    {
      "cell_type": "code",
      "source": [
        "feature_imp = pd.Series(clf.feature_importances_,index=list(df2)).sort_values(ascending=False)\n",
        "print((feature_imp))"
      ],
      "metadata": {
        "colab": {
          "base_uri": "https://localhost:8080/"
        },
        "id": "6slQ5anr3McP",
        "outputId": "027a955c-cb22-4c4f-ebfc-46224efc0548"
      },
      "execution_count": null,
      "outputs": [
        {
          "output_type": "stream",
          "name": "stdout",
          "text": [
            "B365H            0.062644\n",
            "B365A            0.060958\n",
            "HS               0.035343\n",
            "HST              0.032747\n",
            "AC_A             0.032350\n",
            "AS_A             0.031574\n",
            "AST_A            0.031489\n",
            "B365D            0.031470\n",
            "HS_A             0.031159\n",
            "AS               0.030754\n",
            "HF_A             0.030100\n",
            "AF               0.029564\n",
            "AF_A             0.028965\n",
            "HC_A             0.028796\n",
            "HF               0.028354\n",
            "HC               0.027753\n",
            "HST_A            0.027508\n",
            "AC               0.026951\n",
            "AST              0.025866\n",
            "FTHG             0.025649\n",
            "HY               0.025508\n",
            "AY               0.025443\n",
            "FTAG_A           0.024903\n",
            "HY_A             0.023711\n",
            "home_points      0.023304\n",
            "AY_A             0.023256\n",
            "away_points_A    0.023029\n",
            "away_points      0.022243\n",
            "home_points_A    0.022023\n",
            "FTAG             0.021563\n",
            "HTHG             0.021504\n",
            "HTHG_A           0.021503\n",
            "FTHG_A           0.021302\n",
            "HTAG             0.020486\n",
            "HTAG_A           0.020226\n",
            "dtype: float64\n"
          ]
        }
      ]
    },
    {
      "cell_type": "markdown",
      "source": [
        "claramente no añaden ninguna información las tajetas rojas , asi que las eliminaremos"
      ],
      "metadata": {
        "id": "v6XJdXc43jUB"
      }
    },
    {
      "cell_type": "markdown",
      "source": [
        "# **Searching for the best random forest**"
      ],
      "metadata": {
        "id": "RwdEMpcp48FT"
      }
    },
    {
      "cell_type": "code",
      "source": [
        "from sklearn.model_selection import RandomizedSearchCV\n",
        "# Number of trees in random forest\n",
        "n_estimators = [int(x) for x in np.linspace(start = 200, stop = 4000, num = 10)]\n",
        "# Number of features to consider at every split\n",
        "max_features = ['auto', 'sqrt',3]\n",
        "# Maximum number of levels in tree\n",
        "max_depth = [int(x) for x in np.linspace(10, 170, num = 11)]\n",
        "max_depth.append(None)\n",
        "# Minimum number of samples required to split a node\n",
        "min_samples_split = [2, 5,7, 10,12]\n",
        "# Minimum number of samples required at each leaf node\n",
        "min_samples_leaf = [2, 4,6,7,10,12]\n",
        "# Method of selecting samples for training each tree\n",
        "bootstrap = [True, False]\n",
        "warm_start=[True,False]\n",
        "ccp_alpha=[0.003,0.007,0.005,0.0025]\n",
        "# Create the random grid\n",
        "random_grid = {'n_estimators': n_estimators,\n",
        "               'max_features': max_features,\n",
        "               'max_depth': max_depth,\n",
        "               'min_samples_split': min_samples_split,\n",
        "               'min_samples_leaf': min_samples_leaf,\n",
        "               'bootstrap': bootstrap,\n",
        "               'warm_start':warm_start,\n",
        "               'ccp_alpha':ccp_alpha}\n",
        "print(random_grid)"
      ],
      "metadata": {
        "colab": {
          "base_uri": "https://localhost:8080/"
        },
        "id": "7Pk4xXjn47bj",
        "outputId": "95c8272a-ce3b-4931-e5ee-3dd72ef14413"
      },
      "execution_count": null,
      "outputs": [
        {
          "output_type": "stream",
          "name": "stdout",
          "text": [
            "{'n_estimators': [200, 622, 1044, 1466, 1888, 2311, 2733, 3155, 3577, 4000], 'max_features': ['auto', 'sqrt', 3], 'max_depth': [10, 26, 42, 58, 74, 90, 106, 122, 138, 154, 170, None], 'min_samples_split': [2, 5, 7, 10, 12], 'min_samples_leaf': [2, 4, 6, 7, 10, 12], 'bootstrap': [True, False], 'warm_start': [True, False], 'ccp_alpha': [0.003, 0.007, 0.005, 0.0025]}\n"
          ]
        }
      ]
    },
    {
      "cell_type": "code",
      "source": [
        "# Use the random grid to search for best hyperparameters\n",
        "# First create the base model to tune\n",
        "rf = RandomForestClassifier()\n",
        "# Random search of parameters, using 3 fold cross validation, \n",
        "# search across 100 different combinations, and use all available cores\n",
        "rf_random = RandomizedSearchCV(estimator = rf, param_distributions = random_grid, n_iter = 500, cv = 3, verbose=2, random_state=42, n_jobs = -1)\n",
        "# Fit the random search model\n",
        "rf_random.fit(x_train, y_train)"
      ],
      "metadata": {
        "colab": {
          "base_uri": "https://localhost:8080/"
        },
        "id": "dOEmrlkz5UyX",
        "outputId": "2adb7820-58c2-4370-f5cf-e93740252ca1"
      },
      "execution_count": null,
      "outputs": [
        {
          "output_type": "stream",
          "name": "stdout",
          "text": [
            "Fitting 3 folds for each of 500 candidates, totalling 1500 fits\n"
          ]
        },
        {
          "output_type": "stream",
          "name": "stderr",
          "text": [
            "/usr/local/lib/python3.7/dist-packages/sklearn/model_selection/_search.py:926: DataConversionWarning: A column-vector y was passed when a 1d array was expected. Please change the shape of y to (n_samples,), for example using ravel().\n",
            "  self.best_estimator_.fit(X, y, **fit_params)\n"
          ]
        },
        {
          "output_type": "execute_result",
          "data": {
            "text/plain": [
              "RandomizedSearchCV(cv=3, estimator=RandomForestClassifier(), n_iter=500,\n",
              "                   n_jobs=-1,\n",
              "                   param_distributions={'bootstrap': [True, False],\n",
              "                                        'ccp_alpha': [0.003, 0.007, 0.005,\n",
              "                                                      0.0025],\n",
              "                                        'max_depth': [10, 26, 42, 58, 74, 90,\n",
              "                                                      106, 122, 138, 154, 170,\n",
              "                                                      None],\n",
              "                                        'max_features': ['auto', 'sqrt', 3],\n",
              "                                        'min_samples_leaf': [2, 4, 6, 7, 10,\n",
              "                                                             12],\n",
              "                                        'min_samples_split': [2, 5, 7, 10, 12],\n",
              "                                        'n_estimators': [200, 622, 1044, 1466,\n",
              "                                                         1888, 2311, 2733, 3155,\n",
              "                                                         3577, 4000],\n",
              "                                        'warm_start': [True, False]},\n",
              "                   random_state=42, verbose=2)"
            ]
          },
          "metadata": {},
          "execution_count": 110
        }
      ]
    },
    {
      "cell_type": "code",
      "source": [
        "rf_random.best_params_"
      ],
      "metadata": {
        "colab": {
          "base_uri": "https://localhost:8080/"
        },
        "id": "SFNR9VH35Yz6",
        "outputId": "7c286128-9585-4bd2-bf57-8374534bc2f0"
      },
      "execution_count": null,
      "outputs": [
        {
          "output_type": "execute_result",
          "data": {
            "text/plain": [
              "{'bootstrap': True,\n",
              " 'ccp_alpha': 0.003,\n",
              " 'max_depth': 74,\n",
              " 'max_features': 'auto',\n",
              " 'min_samples_leaf': 6,\n",
              " 'min_samples_split': 2,\n",
              " 'n_estimators': 200,\n",
              " 'warm_start': True}"
            ]
          },
          "metadata": {},
          "execution_count": 111
        }
      ]
    },
    {
      "cell_type": "code",
      "source": [
        "def evaluate(model, x_test, y_test):\n",
        "  result=(y_test.to_numpy())\n",
        "  y_pred = model.predict(x_test)\n",
        "  hits=0\n",
        "  total=0\n",
        "  for i in range(len(y_pred)):\n",
        "    total=total+1\n",
        "    if((y_pred[i]-result[i])==[0]):\n",
        "      hits=hits+1\n",
        "  print(hits/total)\n",
        "  accuracy=hits/total\n",
        "  return accuracy"
      ],
      "metadata": {
        "id": "UAR9qJFi5gTJ"
      },
      "execution_count": null,
      "outputs": []
    },
    {
      "cell_type": "code",
      "source": [
        "base_model = RandomForestClassifier(n_estimators = 1000,warm_start=False,ccp_alpha=0.005)\n",
        "base_model.fit(x_train, y_train)\n",
        "base_accuracy = evaluate(base_model, x_test, y_test)"
      ],
      "metadata": {
        "colab": {
          "base_uri": "https://localhost:8080/"
        },
        "id": "XZDzTomK5sIR",
        "outputId": "20f26bcc-9567-4e39-b727-1e61c607a56e"
      },
      "execution_count": null,
      "outputs": [
        {
          "output_type": "stream",
          "name": "stderr",
          "text": [
            "/usr/local/lib/python3.7/dist-packages/ipykernel_launcher.py:2: DataConversionWarning: A column-vector y was passed when a 1d array was expected. Please change the shape of y to (n_samples,), for example using ravel().\n",
            "  \n"
          ]
        },
        {
          "output_type": "stream",
          "name": "stdout",
          "text": [
            "0.5447368421052632\n"
          ]
        }
      ]
    },
    {
      "cell_type": "code",
      "source": [
        "best_random = rf_random.best_estimator_\n",
        "random_accuracy = evaluate(best_random, x_test, y_test)"
      ],
      "metadata": {
        "colab": {
          "base_uri": "https://localhost:8080/"
        },
        "id": "BBOYlYxT5spZ",
        "outputId": "f4c618c6-a994-4da7-f128-bf7ce4c1a082"
      },
      "execution_count": null,
      "outputs": [
        {
          "output_type": "stream",
          "name": "stdout",
          "text": [
            "0.5526315789473685\n"
          ]
        }
      ]
    },
    {
      "cell_type": "code",
      "source": [
        "from sklearn.model_selection import GridSearchCV\n",
        "# Create the parameter grid based on the results of random search \n",
        "# Number of trees in random forest\n",
        "n_estimators = [int(x) for x in np.linspace(start = 20, stop = 400, num = 4)]\n",
        "# Number of features to consider at every split\n",
        "max_features = ['auto']\n",
        "# Maximum number of levels in tree\n",
        "max_depth = [64,74,84]\n",
        "max_depth.append(None)\n",
        "# Minimum number of samples required to split a node\n",
        "min_samples_split = [2,3,4]\n",
        "# Minimum number of samples required at each leaf node\n",
        "min_samples_leaf = [6]\n",
        "# Method of selecting samples for training each tree\n",
        "bootstrap = [True]\n",
        "warm_start=[True]\n",
        "ccp_alpha=[0.003,0.005]\n",
        "max_samples=[None]\n",
        "min_weight_fraction_leaf=[0.0,0.05,0.5]\n",
        "max_leaf_nodes=[None,100,500,1000]\n",
        "# Create the random grid\n",
        "param_grid = {'n_estimators': n_estimators,\n",
        "               'max_features': max_features,\n",
        "               'max_depth': max_depth,\n",
        "               'min_samples_split': min_samples_split,\n",
        "               'min_samples_leaf': min_samples_leaf,\n",
        "               'bootstrap': bootstrap,\n",
        "               'warm_start':warm_start,\n",
        "               'ccp_alpha':ccp_alpha,\n",
        "               'max_samples':max_samples,\n",
        "               'min_weight_fraction_leaf':min_weight_fraction_leaf,\n",
        "               'max_leaf_nodes':max_leaf_nodes}\n",
        "# Create a based model\n",
        "rf = RandomForestClassifier()\n",
        "# Instantiate the grid search model\n",
        "grid_search = GridSearchCV(estimator = rf, param_grid = param_grid, \n",
        "                          cv = 3, n_jobs = -1, verbose = 2)"
      ],
      "metadata": {
        "id": "Ku5dwM1zc_v5"
      },
      "execution_count": null,
      "outputs": []
    },
    {
      "cell_type": "code",
      "source": [
        "grid_search.fit(x_train, y_train)\n",
        "grid_search.best_params_"
      ],
      "metadata": {
        "colab": {
          "base_uri": "https://localhost:8080/"
        },
        "id": "X37YDcGEeBVa",
        "outputId": "675b2ef9-def7-40c5-eb2a-8f11fa68f8a9"
      },
      "execution_count": null,
      "outputs": [
        {
          "output_type": "stream",
          "name": "stdout",
          "text": [
            "Fitting 3 folds for each of 1152 candidates, totalling 3456 fits\n"
          ]
        },
        {
          "output_type": "stream",
          "name": "stderr",
          "text": [
            "/usr/local/lib/python3.7/dist-packages/sklearn/model_selection/_search.py:926: DataConversionWarning: A column-vector y was passed when a 1d array was expected. Please change the shape of y to (n_samples,), for example using ravel().\n",
            "  self.best_estimator_.fit(X, y, **fit_params)\n"
          ]
        },
        {
          "output_type": "execute_result",
          "data": {
            "text/plain": [
              "{'bootstrap': True,\n",
              " 'ccp_alpha': 0.005,\n",
              " 'max_depth': None,\n",
              " 'max_features': 'auto',\n",
              " 'max_leaf_nodes': None,\n",
              " 'max_samples': None,\n",
              " 'min_samples_leaf': 6,\n",
              " 'min_samples_split': 4,\n",
              " 'min_weight_fraction_leaf': 0.05,\n",
              " 'n_estimators': 20,\n",
              " 'warm_start': True}"
            ]
          },
          "metadata": {},
          "execution_count": 144
        }
      ]
    },
    {
      "cell_type": "code",
      "source": [
        "best_grid = grid_search.best_estimator_\n",
        "grid_accuracy = evaluate(best_grid, x_test, y_test)"
      ],
      "metadata": {
        "colab": {
          "base_uri": "https://localhost:8080/"
        },
        "id": "MW_rmNGceVhx",
        "outputId": "25be724d-e3e4-4814-e331-efc07829e968"
      },
      "execution_count": null,
      "outputs": [
        {
          "output_type": "stream",
          "name": "stdout",
          "text": [
            "0.5605263157894737\n"
          ]
        }
      ]
    },
    {
      "cell_type": "code",
      "source": [
        "base_modell = RandomForestClassifier(n_estimators = 20,bootstrap=True ,max_depth=None,max_samples=None,max_features='auto',min_samples_leaf=6,min_samples_split=4,warm_start=True,ccp_alpha=0.005,min_weight_fraction_leaf=0.05,max_leaf_nodes=None)\n",
        "base_modell.fit(x_train, y_train)\n",
        "base_accuracy = evaluate(base_modell, x_test, y_test)"
      ],
      "metadata": {
        "colab": {
          "base_uri": "https://localhost:8080/"
        },
        "id": "j3iSeJn6ef8s",
        "outputId": "966df575-814c-4b0d-c8ea-4cf21bc27be4"
      },
      "execution_count": null,
      "outputs": [
        {
          "output_type": "stream",
          "name": "stdout",
          "text": [
            "0.5526315789473685\n"
          ]
        },
        {
          "output_type": "stream",
          "name": "stderr",
          "text": [
            "/usr/local/lib/python3.7/dist-packages/ipykernel_launcher.py:2: DataConversionWarning: A column-vector y was passed when a 1d array was expected. Please change the shape of y to (n_samples,), for example using ravel().\n",
            "  \n"
          ]
        }
      ]
    }
  ]
}