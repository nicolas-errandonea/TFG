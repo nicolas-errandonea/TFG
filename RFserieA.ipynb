{
  "nbformat": 4,
  "nbformat_minor": 0,
  "metadata": {
    "colab": {
      "name": "RFserieA.ipynb",
      "provenance": [],
      "collapsed_sections": [],
      "authorship_tag": "ABX9TyMJTB1i+UcizTgBXd6Z6QFl",
      "include_colab_link": true
    },
    "kernelspec": {
      "name": "python3",
      "display_name": "Python 3"
    },
    "language_info": {
      "name": "python"
    }
  },
  "cells": [
    {
      "cell_type": "markdown",
      "metadata": {
        "id": "view-in-github",
        "colab_type": "text"
      },
      "source": [
        "<a href=\"https://colab.research.google.com/github/nicolas-errandonea/TFG/blob/TFGcodes/RFserieA.ipynb\" target=\"_parent\"><img src=\"https://colab.research.google.com/assets/colab-badge.svg\" alt=\"Open In Colab\"/></a>"
      ]
    },
    {
      "cell_type": "code",
      "execution_count": null,
      "metadata": {
        "colab": {
          "base_uri": "https://localhost:8080/"
        },
        "id": "QMCT2Q1Ufeae",
        "outputId": "fae9ae1f-9209-4976-96f6-2579fa0aa5cb"
      },
      "outputs": [
        {
          "output_type": "stream",
          "name": "stdout",
          "text": [
            "Mounted at /content/gdrive\n"
          ]
        }
      ],
      "source": [
        "#primero importamos la primera base de datos\n",
        "from google.colab import drive\n",
        "from matplotlib import pyplot as plt\n",
        "import numpy as np \n",
        "import pandas as pd\n",
        "import random\n",
        "drive.mount('/content/gdrive', force_remount=True)\n",
        "path = \"/content/gdrive/My Drive/SerieA/serieA_data.csv\"\n",
        "df = pd.read_csv(path)"
      ]
    },
    {
      "cell_type": "code",
      "source": [
        "from tensorflow import keras\n",
        "from sklearn.ensemble import RandomForestClassifier\n",
        "from sklearn.ensemble import RandomForestRegressor\n",
        "import numpy\n",
        "from sklearn import metrics\n",
        "from tensorflow.keras.layers import Dense,Dropout\n",
        "from tensorflow.keras.models import Sequential\n",
        "from tensorflow.keras.optimizers import RMSprop\n",
        "from sklearn.model_selection import train_test_split\n",
        "from sklearn.utils import resample"
      ],
      "metadata": {
        "id": "BqIsG8Q4gP6Q"
      },
      "execution_count": null,
      "outputs": []
    },
    {
      "cell_type": "markdown",
      "source": [
        "Hay valores vacios en algunas filas, en este caso faltan las cuotas de las casas de apuestas"
      ],
      "metadata": {
        "id": "lZNu6PPAnJDl"
      }
    },
    {
      "cell_type": "code",
      "source": [
        "df.isnull().values.any()"
      ],
      "metadata": {
        "colab": {
          "base_uri": "https://localhost:8080/"
        },
        "id": "ItGNRqfOnIJ3",
        "outputId": "7a6c90b9-a0e2-4703-aa6d-7a7d03c013a4"
      },
      "execution_count": null,
      "outputs": [
        {
          "output_type": "execute_result",
          "data": {
            "text/plain": [
              "True"
            ]
          },
          "metadata": {},
          "execution_count": 40
        }
      ]
    },
    {
      "cell_type": "code",
      "source": [
        "df1 = df[df.isna().any(axis=1)]"
      ],
      "metadata": {
        "id": "35hmsaBxm8Jj"
      },
      "execution_count": null,
      "outputs": []
    },
    {
      "cell_type": "code",
      "source": [
        "df1"
      ],
      "metadata": {
        "colab": {
          "base_uri": "https://localhost:8080/",
          "height": 237
        },
        "id": "k3C4rZwpm94d",
        "outputId": "57e52995-8f15-40ab-fcc6-7feefbe8c312"
      },
      "execution_count": null,
      "outputs": [
        {
          "output_type": "execute_result",
          "data": {
            "text/plain": [
              "           Date HomeTeam    AwayTeam  FTHG  FTAG  FTR  HTHG  HTAG    HS    AS  \\\n",
              "176  10/01/2022   Torino  Fiorentina   1.9   1.0    1   0.9   0.2  14.3   9.8   \n",
              "722  19/10/2020   Verona       Genoa   1.5   1.4    2   0.7   0.4   9.4  12.9   \n",
              "724  18/10/2020  Udinese       Parma   0.8   1.4    1   0.4   0.5   9.7   9.5   \n",
              "\n",
              "     ...  HF_A  AF_A  HC_A  AC_A  HY_A  AY_A  HR_A  AR_A  home_points_A  \\\n",
              "176  ...  14.3  12.7   4.0   5.0   2.7   3.0   0.1   0.3            1.6   \n",
              "722  ...  15.0  14.5   4.7   3.7   2.4   2.5   0.2   0.2            1.3   \n",
              "724  ...  12.7  12.5   5.6   4.1   2.3   2.0   0.0   0.1            1.4   \n",
              "\n",
              "     away_points_A  \n",
              "176            1.3  \n",
              "722            1.3  \n",
              "724            1.4  \n",
              "\n",
              "[3 rows x 43 columns]"
            ],
            "text/html": [
              "\n",
              "  <div id=\"df-257f8390-dc05-4572-94f4-f42625bec177\">\n",
              "    <div class=\"colab-df-container\">\n",
              "      <div>\n",
              "<style scoped>\n",
              "    .dataframe tbody tr th:only-of-type {\n",
              "        vertical-align: middle;\n",
              "    }\n",
              "\n",
              "    .dataframe tbody tr th {\n",
              "        vertical-align: top;\n",
              "    }\n",
              "\n",
              "    .dataframe thead th {\n",
              "        text-align: right;\n",
              "    }\n",
              "</style>\n",
              "<table border=\"1\" class=\"dataframe\">\n",
              "  <thead>\n",
              "    <tr style=\"text-align: right;\">\n",
              "      <th></th>\n",
              "      <th>Date</th>\n",
              "      <th>HomeTeam</th>\n",
              "      <th>AwayTeam</th>\n",
              "      <th>FTHG</th>\n",
              "      <th>FTAG</th>\n",
              "      <th>FTR</th>\n",
              "      <th>HTHG</th>\n",
              "      <th>HTAG</th>\n",
              "      <th>HS</th>\n",
              "      <th>AS</th>\n",
              "      <th>...</th>\n",
              "      <th>HF_A</th>\n",
              "      <th>AF_A</th>\n",
              "      <th>HC_A</th>\n",
              "      <th>AC_A</th>\n",
              "      <th>HY_A</th>\n",
              "      <th>AY_A</th>\n",
              "      <th>HR_A</th>\n",
              "      <th>AR_A</th>\n",
              "      <th>home_points_A</th>\n",
              "      <th>away_points_A</th>\n",
              "    </tr>\n",
              "  </thead>\n",
              "  <tbody>\n",
              "    <tr>\n",
              "      <th>176</th>\n",
              "      <td>10/01/2022</td>\n",
              "      <td>Torino</td>\n",
              "      <td>Fiorentina</td>\n",
              "      <td>1.9</td>\n",
              "      <td>1.0</td>\n",
              "      <td>1</td>\n",
              "      <td>0.9</td>\n",
              "      <td>0.2</td>\n",
              "      <td>14.3</td>\n",
              "      <td>9.8</td>\n",
              "      <td>...</td>\n",
              "      <td>14.3</td>\n",
              "      <td>12.7</td>\n",
              "      <td>4.0</td>\n",
              "      <td>5.0</td>\n",
              "      <td>2.7</td>\n",
              "      <td>3.0</td>\n",
              "      <td>0.1</td>\n",
              "      <td>0.3</td>\n",
              "      <td>1.6</td>\n",
              "      <td>1.3</td>\n",
              "    </tr>\n",
              "    <tr>\n",
              "      <th>722</th>\n",
              "      <td>19/10/2020</td>\n",
              "      <td>Verona</td>\n",
              "      <td>Genoa</td>\n",
              "      <td>1.5</td>\n",
              "      <td>1.4</td>\n",
              "      <td>2</td>\n",
              "      <td>0.7</td>\n",
              "      <td>0.4</td>\n",
              "      <td>9.4</td>\n",
              "      <td>12.9</td>\n",
              "      <td>...</td>\n",
              "      <td>15.0</td>\n",
              "      <td>14.5</td>\n",
              "      <td>4.7</td>\n",
              "      <td>3.7</td>\n",
              "      <td>2.4</td>\n",
              "      <td>2.5</td>\n",
              "      <td>0.2</td>\n",
              "      <td>0.2</td>\n",
              "      <td>1.3</td>\n",
              "      <td>1.3</td>\n",
              "    </tr>\n",
              "    <tr>\n",
              "      <th>724</th>\n",
              "      <td>18/10/2020</td>\n",
              "      <td>Udinese</td>\n",
              "      <td>Parma</td>\n",
              "      <td>0.8</td>\n",
              "      <td>1.4</td>\n",
              "      <td>1</td>\n",
              "      <td>0.4</td>\n",
              "      <td>0.5</td>\n",
              "      <td>9.7</td>\n",
              "      <td>9.5</td>\n",
              "      <td>...</td>\n",
              "      <td>12.7</td>\n",
              "      <td>12.5</td>\n",
              "      <td>5.6</td>\n",
              "      <td>4.1</td>\n",
              "      <td>2.3</td>\n",
              "      <td>2.0</td>\n",
              "      <td>0.0</td>\n",
              "      <td>0.1</td>\n",
              "      <td>1.4</td>\n",
              "      <td>1.4</td>\n",
              "    </tr>\n",
              "  </tbody>\n",
              "</table>\n",
              "<p>3 rows × 43 columns</p>\n",
              "</div>\n",
              "      <button class=\"colab-df-convert\" onclick=\"convertToInteractive('df-257f8390-dc05-4572-94f4-f42625bec177')\"\n",
              "              title=\"Convert this dataframe to an interactive table.\"\n",
              "              style=\"display:none;\">\n",
              "        \n",
              "  <svg xmlns=\"http://www.w3.org/2000/svg\" height=\"24px\"viewBox=\"0 0 24 24\"\n",
              "       width=\"24px\">\n",
              "    <path d=\"M0 0h24v24H0V0z\" fill=\"none\"/>\n",
              "    <path d=\"M18.56 5.44l.94 2.06.94-2.06 2.06-.94-2.06-.94-.94-2.06-.94 2.06-2.06.94zm-11 1L8.5 8.5l.94-2.06 2.06-.94-2.06-.94L8.5 2.5l-.94 2.06-2.06.94zm10 10l.94 2.06.94-2.06 2.06-.94-2.06-.94-.94-2.06-.94 2.06-2.06.94z\"/><path d=\"M17.41 7.96l-1.37-1.37c-.4-.4-.92-.59-1.43-.59-.52 0-1.04.2-1.43.59L10.3 9.45l-7.72 7.72c-.78.78-.78 2.05 0 2.83L4 21.41c.39.39.9.59 1.41.59.51 0 1.02-.2 1.41-.59l7.78-7.78 2.81-2.81c.8-.78.8-2.07 0-2.86zM5.41 20L4 18.59l7.72-7.72 1.47 1.35L5.41 20z\"/>\n",
              "  </svg>\n",
              "      </button>\n",
              "      \n",
              "  <style>\n",
              "    .colab-df-container {\n",
              "      display:flex;\n",
              "      flex-wrap:wrap;\n",
              "      gap: 12px;\n",
              "    }\n",
              "\n",
              "    .colab-df-convert {\n",
              "      background-color: #E8F0FE;\n",
              "      border: none;\n",
              "      border-radius: 50%;\n",
              "      cursor: pointer;\n",
              "      display: none;\n",
              "      fill: #1967D2;\n",
              "      height: 32px;\n",
              "      padding: 0 0 0 0;\n",
              "      width: 32px;\n",
              "    }\n",
              "\n",
              "    .colab-df-convert:hover {\n",
              "      background-color: #E2EBFA;\n",
              "      box-shadow: 0px 1px 2px rgba(60, 64, 67, 0.3), 0px 1px 3px 1px rgba(60, 64, 67, 0.15);\n",
              "      fill: #174EA6;\n",
              "    }\n",
              "\n",
              "    [theme=dark] .colab-df-convert {\n",
              "      background-color: #3B4455;\n",
              "      fill: #D2E3FC;\n",
              "    }\n",
              "\n",
              "    [theme=dark] .colab-df-convert:hover {\n",
              "      background-color: #434B5C;\n",
              "      box-shadow: 0px 1px 3px 1px rgba(0, 0, 0, 0.15);\n",
              "      filter: drop-shadow(0px 1px 2px rgba(0, 0, 0, 0.3));\n",
              "      fill: #FFFFFF;\n",
              "    }\n",
              "  </style>\n",
              "\n",
              "      <script>\n",
              "        const buttonEl =\n",
              "          document.querySelector('#df-257f8390-dc05-4572-94f4-f42625bec177 button.colab-df-convert');\n",
              "        buttonEl.style.display =\n",
              "          google.colab.kernel.accessAllowed ? 'block' : 'none';\n",
              "\n",
              "        async function convertToInteractive(key) {\n",
              "          const element = document.querySelector('#df-257f8390-dc05-4572-94f4-f42625bec177');\n",
              "          const dataTable =\n",
              "            await google.colab.kernel.invokeFunction('convertToInteractive',\n",
              "                                                     [key], {});\n",
              "          if (!dataTable) return;\n",
              "\n",
              "          const docLinkHtml = 'Like what you see? Visit the ' +\n",
              "            '<a target=\"_blank\" href=https://colab.research.google.com/notebooks/data_table.ipynb>data table notebook</a>'\n",
              "            + ' to learn more about interactive tables.';\n",
              "          element.innerHTML = '';\n",
              "          dataTable['output_type'] = 'display_data';\n",
              "          await google.colab.output.renderOutput(dataTable, element);\n",
              "          const docLink = document.createElement('div');\n",
              "          docLink.innerHTML = docLinkHtml;\n",
              "          element.appendChild(docLink);\n",
              "        }\n",
              "      </script>\n",
              "    </div>\n",
              "  </div>\n",
              "  "
            ]
          },
          "metadata": {},
          "execution_count": 42
        }
      ]
    },
    {
      "cell_type": "code",
      "source": [
        "df = df.drop(labels=[176,722,724], axis=0)"
      ],
      "metadata": {
        "id": "yaGPq6jHnv9e"
      },
      "execution_count": null,
      "outputs": []
    },
    {
      "cell_type": "code",
      "source": [
        "df2=df.copy()\n",
        "cols_to_drop = ['Date','HomeTeam','AwayTeam','FTR', 'HR','AR','HR_A','AR_A','HTAG','HTHG','HTAG_A','HTHG_A' ]\n",
        "\n",
        "\n",
        "df2.drop( columns = cols_to_drop, inplace = True)"
      ],
      "metadata": {
        "id": "y2Nd4Sv6gWDg"
      },
      "execution_count": null,
      "outputs": []
    },
    {
      "cell_type": "code",
      "source": [
        "df2.head()"
      ],
      "metadata": {
        "colab": {
          "base_uri": "https://localhost:8080/",
          "height": 235
        },
        "id": "qWgPzT9wgZyD",
        "outputId": "06f8f2b1-0559-46ba-aac2-4cab9f42eedc"
      },
      "execution_count": null,
      "outputs": [
        {
          "output_type": "execute_result",
          "data": {
            "text/plain": [
              "   FTHG  FTAG    HS    AS  HST  AST    HF    AF   HC   AC  ...  HST_A  AST_A  \\\n",
              "0   1.0   2.4  12.0  15.2  3.6  6.1  14.4  13.2  4.1  6.3  ...    4.7    3.2   \n",
              "1   1.2   1.9  12.0  12.8  3.5  4.8  12.7  16.4  5.4  5.2  ...    4.5    4.8   \n",
              "2   1.7   1.7  16.6  11.0  5.9  4.3  11.8  13.3  6.3  5.2  ...    3.5    5.6   \n",
              "3   2.1   1.0  19.7   9.3  7.5  3.0  12.2  11.4  7.5  2.7  ...    4.8    2.0   \n",
              "4   1.2   1.6   9.0  19.0  2.9  5.0  14.7  11.5  3.9  5.6  ...    4.2    4.4   \n",
              "\n",
              "   HF_A  AF_A  HC_A  AC_A  HY_A  AY_A  home_points_A  away_points_A  \n",
              "0  14.6  16.0   4.0   3.3   1.9   3.3            1.7            1.1  \n",
              "1  13.9  15.0   6.4   5.3   3.0   2.5            1.3            1.3  \n",
              "2  14.6  11.4   4.6   5.9   2.0   2.6            0.3            2.4  \n",
              "3  15.4  11.7   6.7   2.0   1.9   2.1            2.3            0.5  \n",
              "4  13.9  12.6   4.4   4.6   2.5   1.7            0.5            2.3  \n",
              "\n",
              "[5 rows x 31 columns]"
            ],
            "text/html": [
              "\n",
              "  <div id=\"df-dacecf86-18c0-4038-9778-dea52e929f6e\">\n",
              "    <div class=\"colab-df-container\">\n",
              "      <div>\n",
              "<style scoped>\n",
              "    .dataframe tbody tr th:only-of-type {\n",
              "        vertical-align: middle;\n",
              "    }\n",
              "\n",
              "    .dataframe tbody tr th {\n",
              "        vertical-align: top;\n",
              "    }\n",
              "\n",
              "    .dataframe thead th {\n",
              "        text-align: right;\n",
              "    }\n",
              "</style>\n",
              "<table border=\"1\" class=\"dataframe\">\n",
              "  <thead>\n",
              "    <tr style=\"text-align: right;\">\n",
              "      <th></th>\n",
              "      <th>FTHG</th>\n",
              "      <th>FTAG</th>\n",
              "      <th>HS</th>\n",
              "      <th>AS</th>\n",
              "      <th>HST</th>\n",
              "      <th>AST</th>\n",
              "      <th>HF</th>\n",
              "      <th>AF</th>\n",
              "      <th>HC</th>\n",
              "      <th>AC</th>\n",
              "      <th>...</th>\n",
              "      <th>HST_A</th>\n",
              "      <th>AST_A</th>\n",
              "      <th>HF_A</th>\n",
              "      <th>AF_A</th>\n",
              "      <th>HC_A</th>\n",
              "      <th>AC_A</th>\n",
              "      <th>HY_A</th>\n",
              "      <th>AY_A</th>\n",
              "      <th>home_points_A</th>\n",
              "      <th>away_points_A</th>\n",
              "    </tr>\n",
              "  </thead>\n",
              "  <tbody>\n",
              "    <tr>\n",
              "      <th>0</th>\n",
              "      <td>1.0</td>\n",
              "      <td>2.4</td>\n",
              "      <td>12.0</td>\n",
              "      <td>15.2</td>\n",
              "      <td>3.6</td>\n",
              "      <td>6.1</td>\n",
              "      <td>14.4</td>\n",
              "      <td>13.2</td>\n",
              "      <td>4.1</td>\n",
              "      <td>6.3</td>\n",
              "      <td>...</td>\n",
              "      <td>4.7</td>\n",
              "      <td>3.2</td>\n",
              "      <td>14.6</td>\n",
              "      <td>16.0</td>\n",
              "      <td>4.0</td>\n",
              "      <td>3.3</td>\n",
              "      <td>1.9</td>\n",
              "      <td>3.3</td>\n",
              "      <td>1.7</td>\n",
              "      <td>1.1</td>\n",
              "    </tr>\n",
              "    <tr>\n",
              "      <th>1</th>\n",
              "      <td>1.2</td>\n",
              "      <td>1.9</td>\n",
              "      <td>12.0</td>\n",
              "      <td>12.8</td>\n",
              "      <td>3.5</td>\n",
              "      <td>4.8</td>\n",
              "      <td>12.7</td>\n",
              "      <td>16.4</td>\n",
              "      <td>5.4</td>\n",
              "      <td>5.2</td>\n",
              "      <td>...</td>\n",
              "      <td>4.5</td>\n",
              "      <td>4.8</td>\n",
              "      <td>13.9</td>\n",
              "      <td>15.0</td>\n",
              "      <td>6.4</td>\n",
              "      <td>5.3</td>\n",
              "      <td>3.0</td>\n",
              "      <td>2.5</td>\n",
              "      <td>1.3</td>\n",
              "      <td>1.3</td>\n",
              "    </tr>\n",
              "    <tr>\n",
              "      <th>2</th>\n",
              "      <td>1.7</td>\n",
              "      <td>1.7</td>\n",
              "      <td>16.6</td>\n",
              "      <td>11.0</td>\n",
              "      <td>5.9</td>\n",
              "      <td>4.3</td>\n",
              "      <td>11.8</td>\n",
              "      <td>13.3</td>\n",
              "      <td>6.3</td>\n",
              "      <td>5.2</td>\n",
              "      <td>...</td>\n",
              "      <td>3.5</td>\n",
              "      <td>5.6</td>\n",
              "      <td>14.6</td>\n",
              "      <td>11.4</td>\n",
              "      <td>4.6</td>\n",
              "      <td>5.9</td>\n",
              "      <td>2.0</td>\n",
              "      <td>2.6</td>\n",
              "      <td>0.3</td>\n",
              "      <td>2.4</td>\n",
              "    </tr>\n",
              "    <tr>\n",
              "      <th>3</th>\n",
              "      <td>2.1</td>\n",
              "      <td>1.0</td>\n",
              "      <td>19.7</td>\n",
              "      <td>9.3</td>\n",
              "      <td>7.5</td>\n",
              "      <td>3.0</td>\n",
              "      <td>12.2</td>\n",
              "      <td>11.4</td>\n",
              "      <td>7.5</td>\n",
              "      <td>2.7</td>\n",
              "      <td>...</td>\n",
              "      <td>4.8</td>\n",
              "      <td>2.0</td>\n",
              "      <td>15.4</td>\n",
              "      <td>11.7</td>\n",
              "      <td>6.7</td>\n",
              "      <td>2.0</td>\n",
              "      <td>1.9</td>\n",
              "      <td>2.1</td>\n",
              "      <td>2.3</td>\n",
              "      <td>0.5</td>\n",
              "    </tr>\n",
              "    <tr>\n",
              "      <th>4</th>\n",
              "      <td>1.2</td>\n",
              "      <td>1.6</td>\n",
              "      <td>9.0</td>\n",
              "      <td>19.0</td>\n",
              "      <td>2.9</td>\n",
              "      <td>5.0</td>\n",
              "      <td>14.7</td>\n",
              "      <td>11.5</td>\n",
              "      <td>3.9</td>\n",
              "      <td>5.6</td>\n",
              "      <td>...</td>\n",
              "      <td>4.2</td>\n",
              "      <td>4.4</td>\n",
              "      <td>13.9</td>\n",
              "      <td>12.6</td>\n",
              "      <td>4.4</td>\n",
              "      <td>4.6</td>\n",
              "      <td>2.5</td>\n",
              "      <td>1.7</td>\n",
              "      <td>0.5</td>\n",
              "      <td>2.3</td>\n",
              "    </tr>\n",
              "  </tbody>\n",
              "</table>\n",
              "<p>5 rows × 31 columns</p>\n",
              "</div>\n",
              "      <button class=\"colab-df-convert\" onclick=\"convertToInteractive('df-dacecf86-18c0-4038-9778-dea52e929f6e')\"\n",
              "              title=\"Convert this dataframe to an interactive table.\"\n",
              "              style=\"display:none;\">\n",
              "        \n",
              "  <svg xmlns=\"http://www.w3.org/2000/svg\" height=\"24px\"viewBox=\"0 0 24 24\"\n",
              "       width=\"24px\">\n",
              "    <path d=\"M0 0h24v24H0V0z\" fill=\"none\"/>\n",
              "    <path d=\"M18.56 5.44l.94 2.06.94-2.06 2.06-.94-2.06-.94-.94-2.06-.94 2.06-2.06.94zm-11 1L8.5 8.5l.94-2.06 2.06-.94-2.06-.94L8.5 2.5l-.94 2.06-2.06.94zm10 10l.94 2.06.94-2.06 2.06-.94-2.06-.94-.94-2.06-.94 2.06-2.06.94z\"/><path d=\"M17.41 7.96l-1.37-1.37c-.4-.4-.92-.59-1.43-.59-.52 0-1.04.2-1.43.59L10.3 9.45l-7.72 7.72c-.78.78-.78 2.05 0 2.83L4 21.41c.39.39.9.59 1.41.59.51 0 1.02-.2 1.41-.59l7.78-7.78 2.81-2.81c.8-.78.8-2.07 0-2.86zM5.41 20L4 18.59l7.72-7.72 1.47 1.35L5.41 20z\"/>\n",
              "  </svg>\n",
              "      </button>\n",
              "      \n",
              "  <style>\n",
              "    .colab-df-container {\n",
              "      display:flex;\n",
              "      flex-wrap:wrap;\n",
              "      gap: 12px;\n",
              "    }\n",
              "\n",
              "    .colab-df-convert {\n",
              "      background-color: #E8F0FE;\n",
              "      border: none;\n",
              "      border-radius: 50%;\n",
              "      cursor: pointer;\n",
              "      display: none;\n",
              "      fill: #1967D2;\n",
              "      height: 32px;\n",
              "      padding: 0 0 0 0;\n",
              "      width: 32px;\n",
              "    }\n",
              "\n",
              "    .colab-df-convert:hover {\n",
              "      background-color: #E2EBFA;\n",
              "      box-shadow: 0px 1px 2px rgba(60, 64, 67, 0.3), 0px 1px 3px 1px rgba(60, 64, 67, 0.15);\n",
              "      fill: #174EA6;\n",
              "    }\n",
              "\n",
              "    [theme=dark] .colab-df-convert {\n",
              "      background-color: #3B4455;\n",
              "      fill: #D2E3FC;\n",
              "    }\n",
              "\n",
              "    [theme=dark] .colab-df-convert:hover {\n",
              "      background-color: #434B5C;\n",
              "      box-shadow: 0px 1px 3px 1px rgba(0, 0, 0, 0.15);\n",
              "      filter: drop-shadow(0px 1px 2px rgba(0, 0, 0, 0.3));\n",
              "      fill: #FFFFFF;\n",
              "    }\n",
              "  </style>\n",
              "\n",
              "      <script>\n",
              "        const buttonEl =\n",
              "          document.querySelector('#df-dacecf86-18c0-4038-9778-dea52e929f6e button.colab-df-convert');\n",
              "        buttonEl.style.display =\n",
              "          google.colab.kernel.accessAllowed ? 'block' : 'none';\n",
              "\n",
              "        async function convertToInteractive(key) {\n",
              "          const element = document.querySelector('#df-dacecf86-18c0-4038-9778-dea52e929f6e');\n",
              "          const dataTable =\n",
              "            await google.colab.kernel.invokeFunction('convertToInteractive',\n",
              "                                                     [key], {});\n",
              "          if (!dataTable) return;\n",
              "\n",
              "          const docLinkHtml = 'Like what you see? Visit the ' +\n",
              "            '<a target=\"_blank\" href=https://colab.research.google.com/notebooks/data_table.ipynb>data table notebook</a>'\n",
              "            + ' to learn more about interactive tables.';\n",
              "          element.innerHTML = '';\n",
              "          dataTable['output_type'] = 'display_data';\n",
              "          await google.colab.output.renderOutput(dataTable, element);\n",
              "          const docLink = document.createElement('div');\n",
              "          docLink.innerHTML = docLinkHtml;\n",
              "          element.appendChild(docLink);\n",
              "        }\n",
              "      </script>\n",
              "    </div>\n",
              "  </div>\n",
              "  "
            ]
          },
          "metadata": {},
          "execution_count": 46
        }
      ]
    },
    {
      "cell_type": "code",
      "source": [
        "prediction_cols=['FTR']\n",
        "\n",
        "x_train = df2[380:]        \n",
        "y_train = df[380:][prediction_cols]\n",
        "x_test = df2[0:380]       \n",
        "y_test = df[0:380][prediction_cols]"
      ],
      "metadata": {
        "id": "Iw21uc37gc6D"
      },
      "execution_count": null,
      "outputs": []
    },
    {
      "cell_type": "code",
      "source": [
        "clf=RandomForestClassifier(n_estimators=10000,warm_start=False,ccp_alpha=0.005)"
      ],
      "metadata": {
        "id": "9lLW09TDgfzn"
      },
      "execution_count": null,
      "outputs": []
    },
    {
      "cell_type": "code",
      "source": [
        "clf.fit(x_train,y_train)"
      ],
      "metadata": {
        "colab": {
          "base_uri": "https://localhost:8080/"
        },
        "id": "B6ZbF95Cgi77",
        "outputId": "df74cce3-924c-4572-fd69-c7f89db425ef"
      },
      "execution_count": null,
      "outputs": [
        {
          "output_type": "stream",
          "name": "stderr",
          "text": [
            "/usr/local/lib/python3.7/dist-packages/ipykernel_launcher.py:1: DataConversionWarning: A column-vector y was passed when a 1d array was expected. Please change the shape of y to (n_samples,), for example using ravel().\n",
            "  \"\"\"Entry point for launching an IPython kernel.\n"
          ]
        },
        {
          "output_type": "execute_result",
          "data": {
            "text/plain": [
              "RandomForestClassifier(ccp_alpha=0.005, n_estimators=10000)"
            ]
          },
          "metadata": {},
          "execution_count": 49
        }
      ]
    },
    {
      "cell_type": "code",
      "source": [
        "y_pred=clf.predict(x_test)\n",
        "print(y_pred)\n",
        "print(\"Accuracy:\",metrics.accuracy_score(y_test, y_pred))"
      ],
      "metadata": {
        "colab": {
          "base_uri": "https://localhost:8080/"
        },
        "id": "OnKnGFCvn9TM",
        "outputId": "ae5309b1-f3d5-4676-cfed-a2204d4b8081"
      },
      "execution_count": null,
      "outputs": [
        {
          "output_type": "stream",
          "name": "stdout",
          "text": [
            "[3 1 3 1 3 1 1 1 1 3 1 3 3 1 1 1 1 1 1 3 1 3 1 3 3 1 1 3 3 1 1 1 1 3 1 3 1\n",
            " 3 1 1 1 3 1 1 3 3 1 3 3 3 1 1 3 1 1 1 1 1 1 1 1 1 3 1 3 1 3 1 3 3 1 3 3 1\n",
            " 1 1 1 3 3 1 1 1 3 1 1 3 1 1 1 3 3 1 1 3 1 1 3 3 1 3 1 1 3 1 3 1 1 3 1 3 1\n",
            " 3 3 1 1 1 3 3 1 1 3 3 3 3 1 1 3 3 1 1 3 3 1 1 1 3 3 3 1 1 1 1 1 3 1 3 1 3\n",
            " 3 3 1 1 1 1 1 3 3 1 1 1 3 3 1 3 1 1 1 3 3 1 3 1 1 3 3 3 1 1 3 1 3 1 3 3 1\n",
            " 1 1 3 1 1 1 3 3 1 1 3 1 1 3 1 1 1 3 1 3 3 1 3 1 1 1 1 1 3 1 3 3 1 3 3 1 1\n",
            " 3 3 3 3 1 3 1 1 1 3 3 1 3 1 3 1 1 1 1 3 1 1 3 1 3 3 1 1 1 3 1 3 1 1 3 3 1\n",
            " 3 1 1 3 1 3 3 1 3 1 1 1 3 1 1 1 1 1 3 1 1 1 3 3 1 3 1 1 1 1 1 3 3 1 1 3 1\n",
            " 3 1 1 3 1 1 1 3 3 1 1 3 1 1 1 3 1 1 3 3 3 3 1 3 1 1 3 1 1 1 3 1 3 1 3 3 1\n",
            " 1 3 3 3 1 1 3 1 3 1 1 1 3 1 3 1 1 1 1 1 3 1 3 1 1 1 3 1 1 3 1 1 1 1 3 1 3\n",
            " 1 1 1 3 1 3 3 3 1 1]\n",
            "Accuracy: 0.5368421052631579\n"
          ]
        }
      ]
    },
    {
      "cell_type": "code",
      "source": [
        "result=(y_test.to_numpy())\n",
        "print(type(result))"
      ],
      "metadata": {
        "colab": {
          "base_uri": "https://localhost:8080/"
        },
        "id": "uVNgb6JaoBYX",
        "outputId": "9d4382b4-65dd-4ef9-a871-4230be939492"
      },
      "execution_count": null,
      "outputs": [
        {
          "output_type": "stream",
          "name": "stdout",
          "text": [
            "<class 'numpy.ndarray'>\n"
          ]
        }
      ]
    },
    {
      "cell_type": "code",
      "source": [
        "#comprobación de mi codigo\n",
        "hits=0\n",
        "total=0\n",
        "for i in range(len(y_pred)):\n",
        "  if((y_pred[i]==[0,0,0]).all()):\n",
        "    i\n",
        "  else:\n",
        "    total=total+1\n",
        "    if(((y_pred[i]-result[i])==[0,0,0]).all()):\n",
        "      hits=hits+1\n",
        "print(hits/total)"
      ],
      "metadata": {
        "colab": {
          "base_uri": "https://localhost:8080/"
        },
        "id": "-tqi8T64oFK_",
        "outputId": "108e85f1-d77e-4415-adff-b3784f5208e7"
      },
      "execution_count": null,
      "outputs": [
        {
          "output_type": "stream",
          "name": "stdout",
          "text": [
            "0.5368421052631579\n"
          ]
        }
      ]
    },
    {
      "cell_type": "code",
      "source": [
        "#acierto de las casas de apuestas\n",
        "total=len(y_test.index)\n",
        "aciertos=0\n",
        "for i in y_test.index:\n",
        "   minimo=min(df2.B365H[i],df2.B365D[i],df2.B365A[i])\n",
        "   if(df.FTR[i]==1 and minimo==df2.B365H[i]):\n",
        "     aciertos=aciertos+1\n",
        "   if(df.FTR[i]==2 and minimo==df2.B365D[i]):\n",
        "     aciertos=aciertos+1\n",
        "     \n",
        "   if(df.FTR[i]==3 and minimo==df2.B365A[i]):\n",
        "     aciertos=aciertos+1\n",
        "print(aciertos/total)"
      ],
      "metadata": {
        "colab": {
          "base_uri": "https://localhost:8080/"
        },
        "id": "TijZmI8goJs5",
        "outputId": "8b77772e-ca61-4f88-81ec-8e8c60028851"
      },
      "execution_count": null,
      "outputs": [
        {
          "output_type": "stream",
          "name": "stdout",
          "text": [
            "0.5263157894736842\n"
          ]
        }
      ]
    },
    {
      "cell_type": "code",
      "source": [
        "feature_imp = pd.Series(clf.feature_importances_,index=list(df2)).sort_values(ascending=False)\n",
        "print((feature_imp))"
      ],
      "metadata": {
        "colab": {
          "base_uri": "https://localhost:8080/"
        },
        "id": "gtQpPbUYoZoC",
        "outputId": "190e8e2d-bdc6-4a19-fb3d-bb8c85ad6707"
      },
      "execution_count": null,
      "outputs": [
        {
          "output_type": "stream",
          "name": "stdout",
          "text": [
            "B365A            0.256403\n",
            "B365H            0.253081\n",
            "HST              0.054826\n",
            "B365D            0.048067\n",
            "AC_A             0.027787\n",
            "home_points      0.027040\n",
            "AST_A            0.026711\n",
            "AS_A             0.024994\n",
            "home_points_A    0.024665\n",
            "away_points_A    0.024430\n",
            "HS               0.022227\n",
            "FTAG_A           0.020536\n",
            "HS_A             0.019723\n",
            "AS               0.019625\n",
            "FTHG             0.015494\n",
            "away_points      0.014429\n",
            "HC               0.014060\n",
            "HST_A            0.013541\n",
            "HC_A             0.012919\n",
            "AC               0.010888\n",
            "FTHG_A           0.010833\n",
            "AF_A             0.010726\n",
            "AF               0.008918\n",
            "AST              0.007541\n",
            "FTAG             0.006588\n",
            "HY               0.004678\n",
            "AY               0.004302\n",
            "HF_A             0.004162\n",
            "AY_A             0.004139\n",
            "HF               0.004028\n",
            "HY_A             0.002637\n",
            "dtype: float64\n"
          ]
        }
      ]
    },
    {
      "cell_type": "markdown",
      "source": [
        "# **Searching for the best random forest**"
      ],
      "metadata": {
        "id": "BBm68WQ6qvyo"
      }
    },
    {
      "cell_type": "code",
      "source": [
        "from sklearn.model_selection import RandomizedSearchCV\n",
        "# Number of trees in random forest\n",
        "n_estimators = [int(x) for x in np.linspace(start = 200, stop = 5000, num = 10)]\n",
        "# Number of features to consider at every split\n",
        "max_features = ['auto', 'sqrt',3]\n",
        "# Maximum number of levels in tree\n",
        "max_depth = [int(x) for x in np.linspace(10, 170, num = 11)]\n",
        "max_depth.append(None)\n",
        "# Minimum number of samples required to split a node\n",
        "min_samples_split = [2, 5,7, 10,12]\n",
        "# Minimum number of samples required at each leaf node\n",
        "min_samples_leaf = [2, 4,6,7,10,12]\n",
        "# Method of selecting samples for training each tree\n",
        "bootstrap = [True, False]\n",
        "warm_start=[True,False]\n",
        "ccp_alpha=[0.003,0.007,0.005,0.0025]\n",
        "# Create the random grid\n",
        "random_grid = {'n_estimators': n_estimators,\n",
        "               'max_features': max_features,\n",
        "               'max_depth': max_depth,\n",
        "               'min_samples_split': min_samples_split,\n",
        "               'min_samples_leaf': min_samples_leaf,\n",
        "               'bootstrap': bootstrap,\n",
        "               'warm_start':warm_start,\n",
        "               'ccp_alpha':ccp_alpha}\n",
        "print(random_grid)"
      ],
      "metadata": {
        "colab": {
          "base_uri": "https://localhost:8080/"
        },
        "id": "i_xEn4FAqpy8",
        "outputId": "f62e2732-3195-4367-a091-84a8f7266bf7"
      },
      "execution_count": null,
      "outputs": [
        {
          "output_type": "stream",
          "name": "stdout",
          "text": [
            "{'n_estimators': [200, 733, 1266, 1800, 2333, 2866, 3400, 3933, 4466, 5000], 'max_features': ['auto', 'sqrt', 3], 'max_depth': [10, 26, 42, 58, 74, 90, 106, 122, 138, 154, 170, None], 'min_samples_split': [2, 5, 7, 10, 12], 'min_samples_leaf': [2, 4, 6, 7, 10, 12], 'bootstrap': [True, False], 'warm_start': [True, False], 'ccp_alpha': [0.003, 0.007, 0.005, 0.0025]}\n"
          ]
        }
      ]
    },
    {
      "cell_type": "code",
      "source": [
        "# Use the random grid to search for best hyperparameters\n",
        "# First create the base model to tune\n",
        "rf = RandomForestClassifier()\n",
        "# Random search of parameters, using 3 fold cross validation, \n",
        "# search across 100 different combinations, and use all available cores\n",
        "rf_random = RandomizedSearchCV(estimator = rf, param_distributions = random_grid, n_iter = 500, cv = 3, verbose=2, random_state=42, n_jobs = -1)\n",
        "# Fit the random search model\n",
        "rf_random.fit(x_train, y_train)"
      ],
      "metadata": {
        "colab": {
          "base_uri": "https://localhost:8080/"
        },
        "id": "pP3YSQKNq9le",
        "outputId": "eb9c3b7c-48cb-45d8-f106-06da6dcfbfc5"
      },
      "execution_count": null,
      "outputs": [
        {
          "output_type": "stream",
          "name": "stdout",
          "text": [
            "Fitting 3 folds for each of 500 candidates, totalling 1500 fits\n"
          ]
        },
        {
          "output_type": "stream",
          "name": "stderr",
          "text": [
            "/usr/local/lib/python3.7/dist-packages/sklearn/model_selection/_search.py:926: DataConversionWarning: A column-vector y was passed when a 1d array was expected. Please change the shape of y to (n_samples,), for example using ravel().\n",
            "  self.best_estimator_.fit(X, y, **fit_params)\n"
          ]
        },
        {
          "output_type": "execute_result",
          "data": {
            "text/plain": [
              "RandomizedSearchCV(cv=3, estimator=RandomForestClassifier(), n_iter=500,\n",
              "                   n_jobs=-1,\n",
              "                   param_distributions={'bootstrap': [True, False],\n",
              "                                        'ccp_alpha': [0.003, 0.007, 0.005,\n",
              "                                                      0.0025],\n",
              "                                        'max_depth': [10, 26, 42, 58, 74, 90,\n",
              "                                                      106, 122, 138, 154, 170,\n",
              "                                                      None],\n",
              "                                        'max_features': ['auto', 'sqrt', 3],\n",
              "                                        'min_samples_leaf': [2, 4, 6, 7, 10,\n",
              "                                                             12],\n",
              "                                        'min_samples_split': [2, 5, 7, 10, 12],\n",
              "                                        'n_estimators': [200, 733, 1266, 1800,\n",
              "                                                         2333, 2866, 3400, 3933,\n",
              "                                                         4466, 5000],\n",
              "                                        'warm_start': [True, False]},\n",
              "                   random_state=42, verbose=2)"
            ]
          },
          "metadata": {},
          "execution_count": 56
        }
      ]
    },
    {
      "cell_type": "code",
      "source": [
        "rf_random.best_params_"
      ],
      "metadata": {
        "colab": {
          "base_uri": "https://localhost:8080/"
        },
        "id": "v0rQ-BgbrCPS",
        "outputId": "0f2a5ef2-7d7e-465a-aeae-bce8a44a4601"
      },
      "execution_count": null,
      "outputs": [
        {
          "output_type": "execute_result",
          "data": {
            "text/plain": [
              "{'bootstrap': True,\n",
              " 'ccp_alpha': 0.005,\n",
              " 'max_depth': 122,\n",
              " 'max_features': 'auto',\n",
              " 'min_samples_leaf': 10,\n",
              " 'min_samples_split': 7,\n",
              " 'n_estimators': 2866,\n",
              " 'warm_start': True}"
            ]
          },
          "metadata": {},
          "execution_count": 57
        }
      ]
    },
    {
      "cell_type": "code",
      "source": [
        "def evaluate(model, x_test, y_test):\n",
        "  result=(y_test.to_numpy())\n",
        "  y_pred = model.predict(x_test)\n",
        "  hits=0\n",
        "  total=0\n",
        "  for i in range(len(y_pred)):\n",
        "    total=total+1\n",
        "    if((y_pred[i]-result[i])==[0]):\n",
        "      hits=hits+1\n",
        "  print(hits/total)\n",
        "  accuracy=hits/total\n",
        "  return accuracy"
      ],
      "metadata": {
        "id": "h2pdGRGNrGff"
      },
      "execution_count": null,
      "outputs": []
    },
    {
      "cell_type": "code",
      "source": [
        "base_model = RandomForestClassifier(n_estimators = 2000,warm_start=False,ccp_alpha=0.005)\n",
        "base_model.fit(x_train, y_train)\n",
        "base_accuracy = evaluate(base_model, x_test, y_test)"
      ],
      "metadata": {
        "colab": {
          "base_uri": "https://localhost:8080/"
        },
        "id": "-X_W6W-OrKRf",
        "outputId": "fc0cc93a-b914-4e3d-ea1b-cdc51b48ec5f"
      },
      "execution_count": null,
      "outputs": [
        {
          "output_type": "stream",
          "name": "stderr",
          "text": [
            "/usr/local/lib/python3.7/dist-packages/ipykernel_launcher.py:2: DataConversionWarning: A column-vector y was passed when a 1d array was expected. Please change the shape of y to (n_samples,), for example using ravel().\n",
            "  \n"
          ]
        },
        {
          "output_type": "stream",
          "name": "stdout",
          "text": [
            "0.5368421052631579\n"
          ]
        }
      ]
    },
    {
      "cell_type": "code",
      "source": [
        "best_random = rf_random.best_estimator_\n",
        "random_accuracy = evaluate(best_random, x_test, y_test)"
      ],
      "metadata": {
        "colab": {
          "base_uri": "https://localhost:8080/"
        },
        "id": "rvF0HukvrNI7",
        "outputId": "5e25821f-3d7c-4437-c5a7-c2d27ccd1e89"
      },
      "execution_count": null,
      "outputs": [
        {
          "output_type": "stream",
          "name": "stdout",
          "text": [
            "0.5342105263157895\n"
          ]
        }
      ]
    },
    {
      "cell_type": "code",
      "source": [
        "from sklearn.model_selection import GridSearchCV\n",
        "# Create the parameter grid based on the results of random search \n",
        "# Number of trees in random forest\n",
        "n_estimators = [int(x) for x in np.linspace(start = 2000, stop = 4000, num = 3)]\n",
        "# Number of features to consider at every split\n",
        "max_features = ['auto']\n",
        "# Maximum number of levels in tree\n",
        "max_depth = [120,140]\n",
        "max_depth.append(None)\n",
        "# Minimum number of samples required to split a node\n",
        "min_samples_split = [7,9]\n",
        "# Minimum number of samples required at each leaf node\n",
        "min_samples_leaf = [10]\n",
        "# Method of selecting samples for training each tree\n",
        "bootstrap = [True]\n",
        "warm_start=[True]\n",
        "ccp_alpha=[0.005]\n",
        "max_samples=[None]\n",
        "min_weight_fraction_leaf=[0.0,0.05,0.5]\n",
        "max_leaf_nodes=[None,100,1000]\n",
        "# Create the random grid\n",
        "param_grid = {'n_estimators': n_estimators,\n",
        "               'max_features': max_features,\n",
        "               'max_depth': max_depth,\n",
        "               'min_samples_split': min_samples_split,\n",
        "               'min_samples_leaf': min_samples_leaf,\n",
        "               'bootstrap': bootstrap,\n",
        "               'warm_start':warm_start,\n",
        "               'ccp_alpha':ccp_alpha,\n",
        "               'max_samples':max_samples,\n",
        "               'min_weight_fraction_leaf':min_weight_fraction_leaf,\n",
        "               'max_leaf_nodes':max_leaf_nodes}\n",
        "# Create a based model\n",
        "rf = RandomForestClassifier()\n",
        "# Instantiate the grid search model\n",
        "grid_search = GridSearchCV(estimator = rf, param_grid = param_grid, \n",
        "                          cv = 3, n_jobs = -1, verbose = 2)"
      ],
      "metadata": {
        "id": "DgcmGJLEUbl9"
      },
      "execution_count": null,
      "outputs": []
    },
    {
      "cell_type": "code",
      "source": [
        "grid_search.fit(x_train, y_train)\n",
        "grid_search.best_params_"
      ],
      "metadata": {
        "colab": {
          "base_uri": "https://localhost:8080/"
        },
        "id": "A6xABmm2VBcG",
        "outputId": "90c3ff31-af54-42d6-aaa1-70f32b053236"
      },
      "execution_count": null,
      "outputs": [
        {
          "output_type": "stream",
          "name": "stdout",
          "text": [
            "Fitting 3 folds for each of 162 candidates, totalling 486 fits\n"
          ]
        },
        {
          "output_type": "stream",
          "name": "stderr",
          "text": [
            "/usr/local/lib/python3.7/dist-packages/sklearn/model_selection/_search.py:926: DataConversionWarning: A column-vector y was passed when a 1d array was expected. Please change the shape of y to (n_samples,), for example using ravel().\n",
            "  self.best_estimator_.fit(X, y, **fit_params)\n"
          ]
        },
        {
          "output_type": "execute_result",
          "data": {
            "text/plain": [
              "{'bootstrap': True,\n",
              " 'ccp_alpha': 0.005,\n",
              " 'max_depth': 140,\n",
              " 'max_features': 'auto',\n",
              " 'max_leaf_nodes': 100,\n",
              " 'max_samples': None,\n",
              " 'min_samples_leaf': 10,\n",
              " 'min_samples_split': 9,\n",
              " 'min_weight_fraction_leaf': 0.05,\n",
              " 'n_estimators': 4000,\n",
              " 'warm_start': True}"
            ]
          },
          "metadata": {},
          "execution_count": 64
        }
      ]
    },
    {
      "cell_type": "code",
      "source": [
        "best_grid = grid_search.best_estimator_\n",
        "grid_accuracy = evaluate(best_grid, x_test, y_test)"
      ],
      "metadata": {
        "colab": {
          "base_uri": "https://localhost:8080/"
        },
        "id": "3S8uN2oJVGf_",
        "outputId": "2a5ebe75-45b9-4696-d351-acfe54eb91db"
      },
      "execution_count": null,
      "outputs": [
        {
          "output_type": "stream",
          "name": "stdout",
          "text": [
            "0.5342105263157895\n"
          ]
        }
      ]
    },
    {
      "cell_type": "code",
      "source": [
        "base_modell = RandomForestClassifier(n_estimators = 4000,bootstrap=True ,max_depth=140,max_samples=None,max_features='auto',min_samples_leaf=10,min_samples_split=9,warm_start=True,ccp_alpha=0.005,min_weight_fraction_leaf=0.05,max_leaf_nodes=100)\n",
        "base_modell.fit(x_train, y_train)\n",
        "base_accuracy = evaluate(base_modell, x_test, y_test)"
      ],
      "metadata": {
        "colab": {
          "base_uri": "https://localhost:8080/"
        },
        "id": "HuQaMG30VLRY",
        "outputId": "5ae68dbf-fe0e-4e96-90a4-53909524717b"
      },
      "execution_count": null,
      "outputs": [
        {
          "output_type": "stream",
          "name": "stderr",
          "text": [
            "/usr/local/lib/python3.7/dist-packages/ipykernel_launcher.py:2: DataConversionWarning: A column-vector y was passed when a 1d array was expected. Please change the shape of y to (n_samples,), for example using ravel().\n",
            "  \n"
          ]
        },
        {
          "output_type": "stream",
          "name": "stdout",
          "text": [
            "0.531578947368421\n"
          ]
        }
      ]
    }
  ]
}