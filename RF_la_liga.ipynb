{
  "nbformat": 4,
  "nbformat_minor": 0,
  "metadata": {
    "colab": {
      "name": "RF_la-liga.ipynb",
      "provenance": [],
      "authorship_tag": "ABX9TyNRSy3uxa5Fv1cSnLFrrW2w",
      "include_colab_link": true
    },
    "kernelspec": {
      "name": "python3",
      "display_name": "Python 3"
    },
    "language_info": {
      "name": "python"
    }
  },
  "cells": [
    {
      "cell_type": "markdown",
      "metadata": {
        "id": "view-in-github",
        "colab_type": "text"
      },
      "source": [
        "<a href=\"https://colab.research.google.com/github/nicolas-errandonea/TFG/blob/TFGcodes/RF_la_liga.ipynb\" target=\"_parent\"><img src=\"https://colab.research.google.com/assets/colab-badge.svg\" alt=\"Open In Colab\"/></a>"
      ]
    },
    {
      "cell_type": "code",
      "execution_count": null,
      "metadata": {
        "colab": {
          "base_uri": "https://localhost:8080/"
        },
        "id": "y706-If4TF37",
        "outputId": "746d2f54-ecb8-4c89-8f14-731ff293a32e"
      },
      "outputs": [
        {
          "output_type": "stream",
          "name": "stdout",
          "text": [
            "Mounted at /content/gdrive\n"
          ]
        }
      ],
      "source": [
        "#primero importamos la primera base de datos\n",
        "from google.colab import drive\n",
        "from matplotlib import pyplot as plt\n",
        "import numpy as np \n",
        "import pandas as pd\n",
        "import random\n",
        "drive.mount('/content/gdrive', force_remount=True)\n",
        "path = \"/content/gdrive/My Drive/liga/liga_data.csv\"\n",
        "df = pd.read_csv(path)"
      ]
    },
    {
      "cell_type": "code",
      "source": [
        "from tensorflow import keras\n",
        "from sklearn.ensemble import RandomForestClassifier\n",
        "from sklearn.ensemble import RandomForestRegressor\n",
        "import numpy\n",
        "from sklearn import metrics\n",
        "from tensorflow.keras.layers import Dense,Dropout\n",
        "from tensorflow.keras.models import Sequential\n",
        "from tensorflow.keras.optimizers import RMSprop\n",
        "from sklearn.model_selection import train_test_split\n",
        "from sklearn.utils import resample"
      ],
      "metadata": {
        "id": "PQ_DGN9VTWKE"
      },
      "execution_count": null,
      "outputs": []
    },
    {
      "cell_type": "code",
      "source": [
        "df2=df.copy()\n",
        "cols_to_drop = ['Date','HomeTeam','AwayTeam','FTR', 'HR','AR','HR_A','AR_A']\n",
        "\n",
        "\n",
        "df2.drop( columns = cols_to_drop, inplace = True)"
      ],
      "metadata": {
        "id": "WB2ud5plTdKU"
      },
      "execution_count": null,
      "outputs": []
    },
    {
      "cell_type": "code",
      "source": [
        "prediction_cols=['FTR']\n",
        "\n",
        "x_train = df2[1140:]        \n",
        "y_train = df[1140:][prediction_cols]\n",
        "x_test = df2[0:1140]       \n",
        "y_test = df[0:1140][prediction_cols]"
      ],
      "metadata": {
        "id": "8Ao6FAJqTd75"
      },
      "execution_count": null,
      "outputs": []
    },
    {
      "cell_type": "code",
      "source": [
        "clf=RandomForestClassifier(n_estimators=2000,warm_start=False,ccp_alpha=0.001)"
      ],
      "metadata": {
        "id": "cx_g0ENtTp0M"
      },
      "execution_count": null,
      "outputs": []
    },
    {
      "cell_type": "code",
      "source": [
        "clf.fit(x_train,y_train)"
      ],
      "metadata": {
        "colab": {
          "base_uri": "https://localhost:8080/"
        },
        "id": "2cqfT7ywTsBm",
        "outputId": "772d36f5-3948-4f50-976b-d43a96791852"
      },
      "execution_count": null,
      "outputs": [
        {
          "output_type": "stream",
          "name": "stderr",
          "text": [
            "/usr/local/lib/python3.7/dist-packages/ipykernel_launcher.py:1: DataConversionWarning: A column-vector y was passed when a 1d array was expected. Please change the shape of y to (n_samples,), for example using ravel().\n",
            "  \"\"\"Entry point for launching an IPython kernel.\n"
          ]
        },
        {
          "output_type": "execute_result",
          "data": {
            "text/plain": [
              "RandomForestClassifier(ccp_alpha=0.001, n_estimators=2000)"
            ]
          },
          "metadata": {},
          "execution_count": 6
        }
      ]
    },
    {
      "cell_type": "code",
      "source": [
        "y_pred=clf.predict(x_test)\n",
        "print(y_pred)\n",
        "print(\"Accuracy:\",metrics.accuracy_score(y_test, y_pred))"
      ],
      "metadata": {
        "colab": {
          "base_uri": "https://localhost:8080/"
        },
        "id": "ODTVlhz1Tupd",
        "outputId": "f9359af0-dbee-46e8-9560-16bc5e178ee3"
      },
      "execution_count": null,
      "outputs": [
        {
          "output_type": "stream",
          "name": "stdout",
          "text": [
            "[3 1 1 ... 1 3 3]\n",
            "Accuracy: 0.5105263157894737\n"
          ]
        }
      ]
    },
    {
      "cell_type": "code",
      "source": [
        "result=(y_test.to_numpy())\n",
        "print(type(result))"
      ],
      "metadata": {
        "colab": {
          "base_uri": "https://localhost:8080/"
        },
        "id": "4Uy0g10GTyFh",
        "outputId": "1c34f2ef-cb5d-4ef6-b25c-7d61c8b6a06b"
      },
      "execution_count": null,
      "outputs": [
        {
          "output_type": "stream",
          "name": "stdout",
          "text": [
            "<class 'numpy.ndarray'>\n"
          ]
        }
      ]
    },
    {
      "cell_type": "code",
      "source": [
        "#comprobación de mi codigo\n",
        "hits=0\n",
        "total=0\n",
        "for i in range(len(y_pred)):\n",
        "  if((y_pred[i]==[0,0,0]).all()):\n",
        "    i\n",
        "  else:\n",
        "    total=total+1\n",
        "    if(((y_pred[i]-result[i])==[0,0,0]).all()):\n",
        "      hits=hits+1\n",
        "print(hits/total)"
      ],
      "metadata": {
        "colab": {
          "base_uri": "https://localhost:8080/"
        },
        "id": "kk2Y8uQhT0dE",
        "outputId": "c1ad274e-362e-428f-d222-d538465e6cea"
      },
      "execution_count": null,
      "outputs": [
        {
          "output_type": "stream",
          "name": "stdout",
          "text": [
            "0.5105263157894737\n"
          ]
        }
      ]
    },
    {
      "cell_type": "code",
      "source": [
        "#acierto de las casas de apuestas\n",
        "total=len(y_test.index)\n",
        "aciertos=0\n",
        "for i in y_test.index:\n",
        "   minimo=min(df2.B365H[i],df2.B365D[i],df2.B365A[i])\n",
        "   if(df.FTR[i]==1 and minimo==df2.B365H[i]):\n",
        "     aciertos=aciertos+1\n",
        "   if(df.FTR[i]==2 and minimo==df2.B365D[i]):\n",
        "     aciertos=aciertos+1\n",
        "     \n",
        "   if(df.FTR[i]==3 and minimo==df2.B365A[i]):\n",
        "     aciertos=aciertos+1\n",
        "print(aciertos/total)"
      ],
      "metadata": {
        "colab": {
          "base_uri": "https://localhost:8080/"
        },
        "id": "xu9uQN_9T3T3",
        "outputId": "3d4161f2-1f00-4589-b956-91bfbf2bd02b"
      },
      "execution_count": null,
      "outputs": [
        {
          "output_type": "stream",
          "name": "stdout",
          "text": [
            "0.5236842105263158\n"
          ]
        }
      ]
    },
    {
      "cell_type": "code",
      "source": [
        "feature_imp = pd.Series(clf.feature_importances_,index=list(df2)).sort_values(ascending=False)\n",
        "print((feature_imp))"
      ],
      "metadata": {
        "colab": {
          "base_uri": "https://localhost:8080/"
        },
        "id": "Z0wVnMjFUDAF",
        "outputId": "a2ba1c6a-5973-4137-cb25-52e5fb90f45a"
      },
      "execution_count": null,
      "outputs": [
        {
          "output_type": "stream",
          "name": "stdout",
          "text": [
            "B365H            0.072064\n",
            "B365A            0.068543\n",
            "B365D            0.035847\n",
            "AS_A             0.033564\n",
            "AST_A            0.033176\n",
            "HST              0.030247\n",
            "HS               0.030089\n",
            "HC_A             0.029895\n",
            "AF_A             0.029769\n",
            "HC               0.029540\n",
            "AC               0.029507\n",
            "HF_A             0.029150\n",
            "HF               0.028970\n",
            "AF               0.028092\n",
            "HS_A             0.027857\n",
            "AS               0.027561\n",
            "AY               0.026370\n",
            "HST_A            0.026113\n",
            "AC_A             0.025829\n",
            "FTHG             0.025307\n",
            "home_points      0.025185\n",
            "AST              0.024828\n",
            "HY               0.024506\n",
            "HY_A             0.023981\n",
            "away_points_A    0.023664\n",
            "AY_A             0.023353\n",
            "FTAG_A           0.023343\n",
            "home_points_A    0.022457\n",
            "away_points      0.022394\n",
            "FTHG_A           0.022257\n",
            "FTAG             0.020905\n",
            "HTHG             0.020452\n",
            "HTHG_A           0.019607\n",
            "HTAG_A           0.017899\n",
            "HTAG             0.017677\n",
            "dtype: float64\n"
          ]
        }
      ]
    },
    {
      "cell_type": "markdown",
      "source": [
        "# **Searching for the best random forest**"
      ],
      "metadata": {
        "id": "S8RaP3F_UIa-"
      }
    },
    {
      "cell_type": "code",
      "source": [
        "from sklearn.model_selection import RandomizedSearchCV\n",
        "# Number of trees in random forest\n",
        "n_estimators = [int(x) for x in np.linspace(start = 200, stop = 4000, num = 8)]\n",
        "# Number of features to consider at every split\n",
        "max_features = ['auto']\n",
        "# Maximum number of levels in tree\n",
        "max_depth = [int(x) for x in np.linspace(10, 170, num = 11)]\n",
        "max_depth.append(None)\n",
        "# Minimum number of samples required to split a node\n",
        "min_samples_split = [2, 5,7, 10,12]\n",
        "# Minimum number of samples required at each leaf node\n",
        "min_samples_leaf = [2, 4,6,7,10,12]\n",
        "# Method of selecting samples for training each tree\n",
        "bootstrap = [True]\n",
        "warm_start=[True]\n",
        "ccp_alpha=[0.003,0.007,0.005,0.0025]\n",
        "# Create the random grid\n",
        "random_grid = {'n_estimators': n_estimators,\n",
        "               'max_features': max_features,\n",
        "               'max_depth': max_depth,\n",
        "               'min_samples_split': min_samples_split,\n",
        "               'min_samples_leaf': min_samples_leaf,\n",
        "               'bootstrap': bootstrap,\n",
        "               'warm_start':warm_start,\n",
        "               'ccp_alpha':ccp_alpha}\n",
        "print(random_grid)"
      ],
      "metadata": {
        "colab": {
          "base_uri": "https://localhost:8080/"
        },
        "id": "tmu-d6hHUFja",
        "outputId": "316f2eb9-d202-4b17-bb0d-8a08480d4062"
      },
      "execution_count": null,
      "outputs": [
        {
          "output_type": "stream",
          "name": "stdout",
          "text": [
            "{'n_estimators': [200, 742, 1285, 1828, 2371, 2914, 3457, 4000], 'max_features': ['auto'], 'max_depth': [10, 26, 42, 58, 74, 90, 106, 122, 138, 154, 170, None], 'min_samples_split': [2, 5, 7, 10, 12], 'min_samples_leaf': [2, 4, 6, 7, 10, 12], 'bootstrap': [True], 'warm_start': [True], 'ccp_alpha': [0.003, 0.007, 0.005, 0.0025]}\n"
          ]
        }
      ]
    },
    {
      "cell_type": "code",
      "source": [
        "# Use the random grid to search for best hyperparameters\n",
        "# First create the base model to tune\n",
        "rf = RandomForestClassifier()\n",
        "# Random search of parameters, using 3 fold cross validation, \n",
        "# search across 100 different combinations, and use all available cores\n",
        "rf_random = RandomizedSearchCV(estimator = rf, param_distributions = random_grid, n_iter = 250, cv = 4, verbose=2, random_state=42, n_jobs = -1)\n",
        "# Fit the random search model\n",
        "rf_random.fit(x_train, y_train)"
      ],
      "metadata": {
        "colab": {
          "base_uri": "https://localhost:8080/"
        },
        "id": "Ye-riBmiUTOb",
        "outputId": "2253a204-c525-4333-a735-4d8449288159"
      },
      "execution_count": null,
      "outputs": [
        {
          "output_type": "stream",
          "name": "stdout",
          "text": [
            "Fitting 4 folds for each of 250 candidates, totalling 1000 fits\n"
          ]
        },
        {
          "output_type": "stream",
          "name": "stderr",
          "text": [
            "/usr/local/lib/python3.7/dist-packages/sklearn/model_selection/_search.py:926: DataConversionWarning: A column-vector y was passed when a 1d array was expected. Please change the shape of y to (n_samples,), for example using ravel().\n",
            "  self.best_estimator_.fit(X, y, **fit_params)\n"
          ]
        },
        {
          "output_type": "execute_result",
          "data": {
            "text/plain": [
              "RandomizedSearchCV(cv=4, estimator=RandomForestClassifier(), n_iter=250,\n",
              "                   n_jobs=-1,\n",
              "                   param_distributions={'bootstrap': [True],\n",
              "                                        'ccp_alpha': [0.003, 0.007, 0.005,\n",
              "                                                      0.0025],\n",
              "                                        'max_depth': [10, 26, 42, 58, 74, 90,\n",
              "                                                      106, 122, 138, 154, 170,\n",
              "                                                      None],\n",
              "                                        'max_features': ['auto'],\n",
              "                                        'min_samples_leaf': [2, 4, 6, 7, 10,\n",
              "                                                             12],\n",
              "                                        'min_samples_split': [2, 5, 7, 10, 12],\n",
              "                                        'n_estimators': [200, 742, 1285, 1828,\n",
              "                                                         2371, 2914, 3457,\n",
              "                                                         4000],\n",
              "                                        'warm_start': [True]},\n",
              "                   random_state=42, verbose=2)"
            ]
          },
          "metadata": {},
          "execution_count": 13
        }
      ]
    },
    {
      "cell_type": "code",
      "source": [
        "rf_random.best_params_"
      ],
      "metadata": {
        "colab": {
          "base_uri": "https://localhost:8080/"
        },
        "id": "6kkIhSc-UZBI",
        "outputId": "07db6703-542f-4cc9-ae03-3fed73b988e4"
      },
      "execution_count": null,
      "outputs": [
        {
          "output_type": "execute_result",
          "data": {
            "text/plain": [
              "{'bootstrap': True,\n",
              " 'ccp_alpha': 0.0025,\n",
              " 'max_depth': 42,\n",
              " 'max_features': 'auto',\n",
              " 'min_samples_leaf': 2,\n",
              " 'min_samples_split': 2,\n",
              " 'n_estimators': 200,\n",
              " 'warm_start': True}"
            ]
          },
          "metadata": {},
          "execution_count": 14
        }
      ]
    },
    {
      "cell_type": "code",
      "source": [
        "def evaluate(model, x_test, y_test):\n",
        "  result=(y_test.to_numpy())\n",
        "  y_pred = model.predict(x_test)\n",
        "  hits=0\n",
        "  total=0\n",
        "  for i in range(len(y_pred)):\n",
        "    total=total+1\n",
        "    if((y_pred[i]-result[i])==[0]):\n",
        "      hits=hits+1\n",
        "  print(hits/total)\n",
        "  accuracy=hits/total\n",
        "  return accuracy"
      ],
      "metadata": {
        "id": "YBNkeWxdUcNl"
      },
      "execution_count": null,
      "outputs": []
    },
    {
      "cell_type": "code",
      "source": [
        "base_model = RandomForestClassifier(n_estimators = 1000,warm_start=False,ccp_alpha=0.005)\n",
        "base_model.fit(x_train, y_train)\n",
        "base_accuracy = evaluate(base_model, x_test, y_test)"
      ],
      "metadata": {
        "colab": {
          "base_uri": "https://localhost:8080/"
        },
        "id": "gvCoAUSqUgiE",
        "outputId": "ed8f3d4c-3e19-4011-d325-7e56fdd03081"
      },
      "execution_count": null,
      "outputs": [
        {
          "output_type": "stream",
          "name": "stderr",
          "text": [
            "/usr/local/lib/python3.7/dist-packages/ipykernel_launcher.py:2: DataConversionWarning: A column-vector y was passed when a 1d array was expected. Please change the shape of y to (n_samples,), for example using ravel().\n",
            "  \n"
          ]
        },
        {
          "output_type": "stream",
          "name": "stdout",
          "text": [
            "0.5166666666666667\n"
          ]
        }
      ]
    },
    {
      "cell_type": "code",
      "source": [
        "best_random = rf_random.best_estimator_\n",
        "random_accuracy = evaluate(best_random, x_test, y_test)"
      ],
      "metadata": {
        "colab": {
          "base_uri": "https://localhost:8080/"
        },
        "id": "fFNjYAK1Uklr",
        "outputId": "e4fee1d2-36ab-425f-f8d0-710320f7f1f7"
      },
      "execution_count": null,
      "outputs": [
        {
          "output_type": "stream",
          "name": "stdout",
          "text": [
            "0.5175438596491229\n"
          ]
        }
      ]
    },
    {
      "cell_type": "code",
      "source": [
        "from sklearn.model_selection import GridSearchCV\n",
        "# Create the parameter grid based on the results of random search \n",
        "# Number of trees in random forest\n",
        "n_estimators = [int(x) for x in np.linspace(start = 50, stop = 400, num = 4)]\n",
        "# Number of features to consider at every split\n",
        "max_features = ['auto']\n",
        "# Maximum number of levels in tree\n",
        "max_depth = [40,50,60]\n",
        "max_depth.append(None)\n",
        "# Minimum number of samples required to split a node\n",
        "min_samples_split = [2,4]\n",
        "# Minimum number of samples required at each leaf node\n",
        "min_samples_leaf = [2,4]\n",
        "# Method of selecting samples for training each tree\n",
        "bootstrap = [True]\n",
        "warm_start=[True]\n",
        "ccp_alpha=[0.0025,0.005]\n",
        "max_samples=[None]\n",
        "min_weight_fraction_leaf=[0.05,0.5,0]\n",
        "max_leaf_nodes=[None,100,1000,]\n",
        "# Create the random grid\n",
        "param_grid = {'n_estimators': n_estimators,\n",
        "               'max_features': max_features,\n",
        "               'max_depth': max_depth,\n",
        "               'min_samples_split': min_samples_split,\n",
        "               'min_samples_leaf': min_samples_leaf,\n",
        "               'bootstrap': bootstrap,\n",
        "               'warm_start':warm_start,\n",
        "               'ccp_alpha':ccp_alpha,\n",
        "               'max_samples':max_samples,\n",
        "               'min_weight_fraction_leaf':min_weight_fraction_leaf,\n",
        "               'max_leaf_nodes':max_leaf_nodes}\n",
        "# Create a based model\n",
        "rf = RandomForestClassifier()\n",
        "# Instantiate the grid search model\n",
        "grid_search = GridSearchCV(estimator = rf, param_grid = param_grid, \n",
        "                          cv = 3, n_jobs = -1, verbose = 2)"
      ],
      "metadata": {
        "id": "sQ3tNO1QyIMl"
      },
      "execution_count": null,
      "outputs": []
    },
    {
      "cell_type": "code",
      "source": [
        "grid_search.fit(x_train, y_train)\n",
        "grid_search.best_params_"
      ],
      "metadata": {
        "colab": {
          "base_uri": "https://localhost:8080/"
        },
        "id": "BfRK6lqJyXto",
        "outputId": "d8ac0c5f-078e-42c3-ac5a-127e9313fb4b"
      },
      "execution_count": null,
      "outputs": [
        {
          "output_type": "stream",
          "name": "stdout",
          "text": [
            "Fitting 3 folds for each of 1152 candidates, totalling 3456 fits\n"
          ]
        },
        {
          "output_type": "stream",
          "name": "stderr",
          "text": [
            "/usr/local/lib/python3.7/dist-packages/sklearn/model_selection/_search.py:926: DataConversionWarning: A column-vector y was passed when a 1d array was expected. Please change the shape of y to (n_samples,), for example using ravel().\n",
            "  self.best_estimator_.fit(X, y, **fit_params)\n"
          ]
        },
        {
          "output_type": "execute_result",
          "data": {
            "text/plain": [
              "{'bootstrap': True,\n",
              " 'ccp_alpha': 0.0025,\n",
              " 'max_depth': 60,\n",
              " 'max_features': 'auto',\n",
              " 'max_leaf_nodes': 100,\n",
              " 'max_samples': None,\n",
              " 'min_samples_leaf': 2,\n",
              " 'min_samples_split': 2,\n",
              " 'min_weight_fraction_leaf': 0,\n",
              " 'n_estimators': 400,\n",
              " 'warm_start': True}"
            ]
          },
          "metadata": {},
          "execution_count": 21
        }
      ]
    },
    {
      "cell_type": "code",
      "source": [
        "best_grid = grid_search.best_estimator_\n",
        "grid_accuracy = evaluate(best_grid, x_test, y_test)"
      ],
      "metadata": {
        "colab": {
          "base_uri": "https://localhost:8080/"
        },
        "id": "qGB45K9Rya6z",
        "outputId": "77e13716-d240-4c79-f7dd-24ab98d59974"
      },
      "execution_count": null,
      "outputs": [
        {
          "output_type": "stream",
          "name": "stdout",
          "text": [
            "0.5105263157894737\n"
          ]
        }
      ]
    },
    {
      "cell_type": "code",
      "source": [
        "base_modell = RandomForestClassifier(n_estimators = 400,max_leaf_nodes=100,bootstrap=True ,max_depth=60,max_samples=None,max_features='auto',min_samples_leaf=2,min_samples_split=2,warm_start=True,ccp_alpha=0.0025,min_weight_fraction_leaf=0)\n",
        "base_modell.fit(x_train, y_train)\n",
        "base_accuracy = evaluate(base_modell, x_test, y_test)"
      ],
      "metadata": {
        "colab": {
          "base_uri": "https://localhost:8080/"
        },
        "id": "gfdrh0Ltyd8-",
        "outputId": "32b8ffd8-64f7-452c-8d66-c38d7eec9374"
      },
      "execution_count": null,
      "outputs": [
        {
          "output_type": "stream",
          "name": "stderr",
          "text": [
            "/usr/local/lib/python3.7/dist-packages/ipykernel_launcher.py:2: DataConversionWarning: A column-vector y was passed when a 1d array was expected. Please change the shape of y to (n_samples,), for example using ravel().\n",
            "  \n"
          ]
        },
        {
          "output_type": "stream",
          "name": "stdout",
          "text": [
            "0.5175438596491229\n"
          ]
        }
      ]
    }
  ]
}